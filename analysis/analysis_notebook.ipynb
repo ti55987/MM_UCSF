{
 "cells": [
  {
   "cell_type": "code",
   "execution_count": 1,
   "id": "30a3799e",
   "metadata": {},
   "outputs": [],
   "source": [
    "from collections import defaultdict\n",
    "\n",
    "import pandas as pd\n",
    "import numpy as np\n",
    "import matplotlib.pyplot as plt\n",
    "import timeit\n",
    "\n",
    "# from importlib import reload\n",
    "# import feature_extraction\n",
    "# reload(feature_extraction)\n",
    "from biomarkers import (\n",
    "    EEG,\n",
    "    EMG,\n",
    "    BP,\n",
    "    EOG,\n",
    "    ECG,\n",
    "    TREV,\n",
    "    GSR,\n",
    "    Resp,\n",
    "    EGG,\n",
    "    MARKER_TO_CHANNEL_NAMES,\n",
    ")\n",
    "from feature_extraction import (\n",
    "    Feature,\n",
    "    EEG_BANDS,\n",
    "    STAT_FEATURES,\n",
    ")\n",
    "from data_utils import (\n",
    "    extract_labels,\n",
    "    load_data_from_dir,\n",
    "    get_all_behaviors_labels,\n",
    "    extract_features_by_channel,\n",
    ")\n",
    "from calculate_correlation import (\n",
    "    EEG_BANDS_LIST,\n",
    "    get_all_behaviors_feature_to_pc_by_markers,\n",
    "    get_all_trials_average_rp_values,\n",
    ")\n"
   ]
  },
  {
   "cell_type": "code",
   "execution_count": null,
   "id": "1c7230fb",
   "metadata": {},
   "outputs": [],
   "source": [
    "\"\"\"\n",
    "    load features from csv\n",
    "\"\"\"\n",
    "from dataframe.csv_utils import (\n",
    "    load_data_from_csv,\n",
    "    get_labels_from_result,\n",
    "    get_features_from_result,\n",
    ")\n",
    "\n",
    "dir_name = \"extracted_features_v1\"\n",
    "result = load_data_from_csv(dir_name)\n",
    "all_label_array, label_list = get_labels_from_result(result)\n",
    "all_feature_array, feature_names = get_features_from_result(result)\n",
    "all_feature_array = all_feature_array.drop([\"index\"], axis=1)\n",
    "feature_names = all_feature_array.columns\n",
    "print(all_feature_array.shape, len(feature_names), len(label_list))\n"
   ]
  },
  {
   "cell_type": "code",
   "execution_count": 4,
   "id": "e1f4b9f7",
   "metadata": {},
   "outputs": [
    {
     "name": "stdout",
     "output_type": "stream",
     "text": [
      "Loading ../CleandDataV2/2032 data...\n",
      "Loading ../CleandDataV2/2033 data...\n",
      "Loading ../CleandDataV2/2035 data...\n"
     ]
    }
   ],
   "source": [
    "all_dirs = []\n",
    "subjects = [\"2032\", \"2033\", \"2035\"]\n",
    "for subj in subjects:\n",
    "    all_dirs.append(f\"../CleandDataV2/{subj}\")\n",
    "\n",
    "dir_to_data = {}\n",
    "for dir_name in all_dirs:\n",
    "    all_data = load_data_from_dir(dir_name)\n",
    "    dir_to_data[dir_name] = all_data"
   ]
  },
  {
   "cell_type": "code",
   "execution_count": 5,
   "id": "d1ff65df",
   "metadata": {},
   "outputs": [
    {
     "name": "stdout",
     "output_type": "stream",
     "text": [
      "Extracting PSD features for 0...\n",
      "Extracting PSD features for 1...\n",
      "Extracting PSD features for 2...\n",
      "Extracting PSD features for 3...\n",
      "Extracting PSD features for 4...\n",
      "Extracting PSD features for 5...\n",
      "Extracting PSD features for 6...\n",
      "Extracting PSD features for 7...\n",
      "Extracting PSD features for 8...\n",
      "Extracting PSD features for 9...\n",
      "Extracting PSD features for 10...\n",
      "Extracting PSD features for 11...\n",
      "Extracting PSD features for 12...\n",
      "Extracting PSD features for 13...\n",
      "Extracting PSD features for 14...\n",
      "Extracting PSD features for 15...\n",
      "Extracting PSD features for 16...\n",
      "Extracting PSD features for 17...\n",
      "Extracting PSD features for 18...\n",
      "Extracting PSD features for 19...\n",
      "Extracting PSD features for 20...\n",
      "Extracting PSD features for 21...\n",
      "Extracting PSD features for 22...\n",
      "Extracting PSD features for 23...\n",
      "Extracting PSD features for 24...\n",
      "Extracting PSD features for 25...\n",
      "Extracting PSD features for 26...\n",
      "Extracting PSD features for 27...\n",
      "Extracting PSD features for 28...\n",
      "Extracting PSD features for 29...\n",
      "Extracting PSD features for 30...\n",
      "Extracting PSD features for 31...\n",
      "Extracting PSD features for 32...\n",
      "Extracting PSD features for 33...\n",
      "Extracting PSD features for 34...\n",
      "Extracting PSD features for 35...\n",
      "Extracting PSD features for 36...\n",
      "Extracting PSD features for 37...\n",
      "Extracting PSD features for 38...\n",
      "Extracting PSD features for 39...\n",
      "Extracting PSD features for 40...\n",
      "Extracting PSD features for 41...\n",
      "Extracting PSD features for 42...\n",
      "Extracting PSD features for 43...\n",
      "Extracting PSD features for 44...\n",
      "Extracting PSD features for 45...\n",
      "Extracting PSD features for 46...\n",
      "Extracting PSD features for 47...\n",
      "Extracting PSD features for 48...\n",
      "Extracting PSD features for 49...\n",
      "Extracting PSD features for 50...\n",
      "Extracting PSD features for 51...\n",
      "Extracting PSD features for 52...\n",
      "Extracting PSD features for 53...\n",
      "Extracting PSD features for 54...\n",
      "Extracting PSD features for 55...\n",
      "Extracting PSD features for 56...\n",
      "Extracting PSD features for 57...\n",
      "Extracting PSD features for 58...\n",
      "Extracting PSD features for 59...\n",
      "Extracting PSD features for 60...\n",
      "Extracting PSD features for 61...\n",
      "Extracting PSD features for 62...\n",
      "Extracting PSD features for 63...\n",
      "Extracting PSD features for 64...\n",
      "Extracting PSD features for 65...\n",
      "Extracting PSD features for 66...\n",
      "Extracting PSD features for 67...\n",
      "Extracting PSD features for 68...\n",
      "Extracting PSD features for 69...\n",
      "Extracting PSD features for 70...\n",
      "Extracting PSD features for 71...\n",
      "Extracting PSD features for 72...\n",
      "Extracting PSD features for 73...\n",
      "Extracting PSD features for 74...\n",
      "Extracting PSD features for 75...\n",
      "Extracting PSD features for 76...\n",
      "Extracting PSD features for 77...\n",
      "Extracting PSD features for 78...\n",
      "Extracting PSD features for 79...\n",
      "Extracting PSD features for 80...\n",
      "Extracting PSD features for 81...\n",
      "Extracting PSD features for 82...\n",
      "Extracting PSD features for 83...\n",
      "Extracting PSD features for 84...\n",
      "Extracting PSD features for 85...\n",
      "Extracting PSD features for 86...\n",
      "Extracting PSD features for 87...\n",
      "Extracting PSD features for 88...\n",
      "Extracting PSD features for 89...\n",
      "Extracting PSD features for 90...\n",
      "Extracting PSD features for 91...\n",
      "Extracting PSD features for 92...\n",
      "Extracting PSD features for 93...\n",
      "Extracting PSD features for 94...\n",
      "Extracting PSD features for 95...\n",
      "Extracting PSD features for 96...\n",
      "Extracting PSD features for 97...\n",
      "Extracting PSD features for 98...\n",
      "Extracting PSD features for 99...\n",
      "Extracting PSD features for 100...\n",
      "Extracting PSD features for 101...\n",
      "Extracting PSD features for 102...\n",
      "Extracting PSD features for 103...\n",
      "Extracting PSD features for 104...\n",
      "Extracting PSD features for 105...\n",
      "Extracting PSD features for 106...\n",
      "Extracting PSD features for 107...\n",
      "Extracting PSD features for 108...\n",
      "Extracting PSD features for 109...\n",
      "Extracting PSD features for 110...\n",
      "Extracting PSD features for 111...\n",
      "Extracting PSD features for 112...\n",
      "Extracting PSD features for 113...\n",
      "Extracting PSD features for 114...\n",
      "Extracting PSD features for 115...\n",
      "Extracting PSD features for 116...\n",
      "Extracting PSD features for 117...\n",
      "Extracting PSD features for 118...\n",
      "Extracting PSD features for 119...\n",
      "Extracting PSD features for 120...\n",
      "Extracting PSD features for 121...\n",
      "Extracting PSD features for 122...\n",
      "Extracting PSD features for 123...\n",
      "Extracting PSD features for 124...\n",
      "Extracting PSD features for 125...\n",
      "Extracting PSD features for 126...\n",
      "Extracting PSD features for 127...\n",
      "extracted EEG stats or PSD features\n",
      "The time difference is : 762.4286516739999\n",
      "Extracting PSD features for 0...\n",
      "Extracting PSD features for 1...\n",
      "Extracting PSD features for 2...\n",
      "Extracting PSD features for 3...\n",
      "Extracting PSD features for 4...\n",
      "Extracting PSD features for 5...\n",
      "Extracting PSD features for 6...\n",
      "Extracting PSD features for 7...\n",
      "Extracting PSD features for 8...\n",
      "Extracting PSD features for 9...\n",
      "Extracting PSD features for 10...\n",
      "Extracting PSD features for 11...\n",
      "Extracting PSD features for 12...\n",
      "Extracting PSD features for 13...\n",
      "Extracting PSD features for 14...\n",
      "Extracting PSD features for 15...\n",
      "Extracting PSD features for 16...\n",
      "Extracting PSD features for 17...\n",
      "Extracting PSD features for 18...\n",
      "Extracting PSD features for 19...\n",
      "Extracting PSD features for 20...\n",
      "Extracting PSD features for 21...\n",
      "Extracting PSD features for 22...\n",
      "Extracting PSD features for 23...\n",
      "Extracting PSD features for 24...\n",
      "Extracting PSD features for 25...\n",
      "Extracting PSD features for 26...\n",
      "Extracting PSD features for 27...\n",
      "Extracting PSD features for 28...\n",
      "Extracting PSD features for 29...\n",
      "Extracting PSD features for 30...\n",
      "Extracting PSD features for 31...\n",
      "Extracting PSD features for 32...\n",
      "Extracting PSD features for 33...\n",
      "Extracting PSD features for 34...\n",
      "Extracting PSD features for 35...\n",
      "Extracting PSD features for 36...\n",
      "Extracting PSD features for 37...\n",
      "Extracting PSD features for 38...\n",
      "Extracting PSD features for 39...\n",
      "Extracting PSD features for 40...\n",
      "Extracting PSD features for 41...\n",
      "Extracting PSD features for 42...\n",
      "Extracting PSD features for 43...\n",
      "Extracting PSD features for 44...\n",
      "Extracting PSD features for 45...\n",
      "Extracting PSD features for 46...\n",
      "Extracting PSD features for 47...\n",
      "Extracting PSD features for 48...\n",
      "Extracting PSD features for 49...\n",
      "Extracting PSD features for 50...\n",
      "Extracting PSD features for 51...\n",
      "Extracting PSD features for 52...\n",
      "Extracting PSD features for 53...\n",
      "Extracting PSD features for 54...\n",
      "Extracting PSD features for 55...\n",
      "Extracting PSD features for 56...\n",
      "Extracting PSD features for 57...\n",
      "Extracting PSD features for 58...\n",
      "Extracting PSD features for 59...\n",
      "Extracting PSD features for 60...\n",
      "Extracting PSD features for 61...\n",
      "Extracting PSD features for 62...\n",
      "Extracting PSD features for 63...\n",
      "Extracting PSD features for 64...\n",
      "Extracting PSD features for 65...\n",
      "Extracting PSD features for 66...\n",
      "Extracting PSD features for 67...\n",
      "Extracting PSD features for 68...\n",
      "Extracting PSD features for 69...\n",
      "Extracting PSD features for 70...\n",
      "Extracting PSD features for 71...\n",
      "Extracting PSD features for 72...\n",
      "Extracting PSD features for 73...\n",
      "Extracting PSD features for 74...\n",
      "Extracting PSD features for 75...\n",
      "Extracting PSD features for 76...\n",
      "Extracting PSD features for 77...\n",
      "Extracting PSD features for 78...\n",
      "Extracting PSD features for 79...\n",
      "Extracting PSD features for 80...\n",
      "Extracting PSD features for 81...\n",
      "Extracting PSD features for 82...\n",
      "Extracting PSD features for 83...\n",
      "Extracting PSD features for 84...\n",
      "Extracting PSD features for 85...\n",
      "Extracting PSD features for 86...\n",
      "Extracting PSD features for 87...\n",
      "Extracting PSD features for 88...\n",
      "Extracting PSD features for 89...\n",
      "Extracting PSD features for 90...\n",
      "Extracting PSD features for 91...\n",
      "Extracting PSD features for 92...\n",
      "Extracting PSD features for 93...\n",
      "Extracting PSD features for 94...\n",
      "Extracting PSD features for 95...\n",
      "Extracting PSD features for 96...\n",
      "Extracting PSD features for 97...\n",
      "Extracting PSD features for 98...\n",
      "Extracting PSD features for 99...\n",
      "Extracting PSD features for 100...\n",
      "Extracting PSD features for 101...\n",
      "Extracting PSD features for 102...\n",
      "Extracting PSD features for 103...\n",
      "Extracting PSD features for 104...\n",
      "Extracting PSD features for 105...\n",
      "Extracting PSD features for 106...\n",
      "Extracting PSD features for 107...\n",
      "Extracting PSD features for 108...\n",
      "Extracting PSD features for 109...\n",
      "Extracting PSD features for 110...\n"
     ]
    },
    {
     "name": "stdout",
     "output_type": "stream",
     "text": [
      "Extracting PSD features for 111...\n",
      "Extracting PSD features for 112...\n",
      "Extracting PSD features for 113...\n",
      "Extracting PSD features for 114...\n",
      "Extracting PSD features for 115...\n",
      "Extracting PSD features for 116...\n",
      "Extracting PSD features for 117...\n",
      "Extracting PSD features for 118...\n",
      "Extracting PSD features for 119...\n",
      "Extracting PSD features for 120...\n",
      "Extracting PSD features for 121...\n",
      "Extracting PSD features for 122...\n",
      "Extracting PSD features for 123...\n",
      "Extracting PSD features for 124...\n",
      "Extracting PSD features for 125...\n",
      "Extracting PSD features for 126...\n",
      "Extracting PSD features for 127...\n",
      "extracted EEG stats or PSD features\n",
      "The time difference is : 730.1183655259997\n",
      "Extracting PSD features for 0...\n",
      "Extracting PSD features for 1...\n",
      "Extracting PSD features for 2...\n",
      "Extracting PSD features for 3...\n",
      "Extracting PSD features for 4...\n",
      "Extracting PSD features for 5...\n",
      "Extracting PSD features for 6...\n",
      "Extracting PSD features for 7...\n",
      "Extracting PSD features for 8...\n",
      "Extracting PSD features for 9...\n",
      "Extracting PSD features for 10...\n",
      "Extracting PSD features for 11...\n",
      "Extracting PSD features for 12...\n",
      "Extracting PSD features for 13...\n",
      "Extracting PSD features for 14...\n",
      "Extracting PSD features for 15...\n",
      "Extracting PSD features for 16...\n",
      "Extracting PSD features for 17...\n",
      "Extracting PSD features for 18...\n",
      "Extracting PSD features for 19...\n",
      "Extracting PSD features for 20...\n",
      "Extracting PSD features for 21...\n",
      "Extracting PSD features for 22...\n",
      "Extracting PSD features for 23...\n",
      "Extracting PSD features for 24...\n",
      "Extracting PSD features for 25...\n",
      "Extracting PSD features for 26...\n",
      "Extracting PSD features for 27...\n",
      "Extracting PSD features for 28...\n",
      "Extracting PSD features for 29...\n",
      "Extracting PSD features for 30...\n",
      "Extracting PSD features for 31...\n",
      "Extracting PSD features for 32...\n",
      "Extracting PSD features for 33...\n",
      "Extracting PSD features for 34...\n",
      "Extracting PSD features for 35...\n",
      "Extracting PSD features for 36...\n",
      "Extracting PSD features for 37...\n",
      "Extracting PSD features for 38...\n",
      "Extracting PSD features for 39...\n",
      "Extracting PSD features for 40...\n",
      "Extracting PSD features for 41...\n",
      "Extracting PSD features for 42...\n",
      "Extracting PSD features for 43...\n",
      "Extracting PSD features for 44...\n",
      "Extracting PSD features for 45...\n",
      "Extracting PSD features for 46...\n",
      "Extracting PSD features for 47...\n",
      "Extracting PSD features for 48...\n",
      "Extracting PSD features for 49...\n",
      "Extracting PSD features for 50...\n",
      "Extracting PSD features for 51...\n",
      "Extracting PSD features for 52...\n",
      "Extracting PSD features for 53...\n",
      "Extracting PSD features for 54...\n",
      "Extracting PSD features for 55...\n",
      "Extracting PSD features for 56...\n",
      "Extracting PSD features for 57...\n",
      "Extracting PSD features for 58...\n",
      "Extracting PSD features for 59...\n",
      "Extracting PSD features for 60...\n",
      "Extracting PSD features for 61...\n",
      "Extracting PSD features for 62...\n",
      "Extracting PSD features for 63...\n",
      "Extracting PSD features for 64...\n",
      "Extracting PSD features for 65...\n",
      "Extracting PSD features for 66...\n",
      "Extracting PSD features for 67...\n",
      "Extracting PSD features for 68...\n",
      "Extracting PSD features for 69...\n",
      "Extracting PSD features for 70...\n",
      "Extracting PSD features for 71...\n",
      "Extracting PSD features for 72...\n",
      "Extracting PSD features for 73...\n",
      "Extracting PSD features for 74...\n",
      "Extracting PSD features for 75...\n",
      "Extracting PSD features for 76...\n",
      "Extracting PSD features for 77...\n",
      "Extracting PSD features for 78...\n",
      "Extracting PSD features for 79...\n",
      "Extracting PSD features for 80...\n",
      "Extracting PSD features for 81...\n",
      "Extracting PSD features for 82...\n",
      "Extracting PSD features for 83...\n",
      "Extracting PSD features for 84...\n",
      "Extracting PSD features for 85...\n",
      "Extracting PSD features for 86...\n",
      "Extracting PSD features for 87...\n",
      "Extracting PSD features for 88...\n",
      "Extracting PSD features for 89...\n",
      "Extracting PSD features for 90...\n",
      "Extracting PSD features for 91...\n",
      "Extracting PSD features for 92...\n",
      "Extracting PSD features for 93...\n",
      "Extracting PSD features for 94...\n",
      "Extracting PSD features for 95...\n",
      "Extracting PSD features for 96...\n",
      "Extracting PSD features for 97...\n",
      "Extracting PSD features for 98...\n",
      "Extracting PSD features for 99...\n",
      "Extracting PSD features for 100...\n",
      "Extracting PSD features for 101...\n",
      "Extracting PSD features for 102...\n",
      "Extracting PSD features for 103...\n",
      "Extracting PSD features for 104...\n",
      "Extracting PSD features for 105...\n",
      "Extracting PSD features for 106...\n",
      "Extracting PSD features for 107...\n",
      "Extracting PSD features for 108...\n",
      "Extracting PSD features for 109...\n",
      "Extracting PSD features for 110...\n",
      "Extracting PSD features for 111...\n",
      "Extracting PSD features for 112...\n",
      "Extracting PSD features for 113...\n",
      "Extracting PSD features for 114...\n",
      "Extracting PSD features for 115...\n",
      "Extracting PSD features for 116...\n",
      "Extracting PSD features for 117...\n",
      "Extracting PSD features for 118...\n",
      "Extracting PSD features for 119...\n",
      "Extracting PSD features for 120...\n",
      "Extracting PSD features for 121...\n",
      "Extracting PSD features for 122...\n",
      "Extracting PSD features for 123...\n",
      "Extracting PSD features for 124...\n",
      "Extracting PSD features for 125...\n",
      "Extracting PSD features for 126...\n",
      "Extracting PSD features for 127...\n",
      "extracted EEG stats or PSD features\n",
      "The time difference is : 679.4519566159997\n"
     ]
    }
   ],
   "source": [
    "from dataframe.extraction import (\n",
    "    extract_features_by_markers,\n",
    ")\n",
    "\n",
    "\"\"\"\n",
    "  extract features from physiological signals\n",
    "\"\"\"\n",
    "# (TODO) GSR, Resp, TREV  BP.__name__, EGG.__name__\n",
    "markers = [EEG.__name__]\n",
    "for s in all_dirs:\n",
    "    starttime = timeit.default_timer()\n",
    "    # extract features\n",
    "    df = extract_features_by_markers(markers, dir_to_data, [s])\n",
    "    #     print(s, df.shape)\n",
    "    #     subject_features = result[result[\"Subject\"] == s]\n",
    "    #     subject_features = subject_features.reset_index()\n",
    "\n",
    "    print(\"The time difference is :\", timeit.default_timer() - starttime)\n",
    "    all_features = df  # pd.concat([df, subject_features], axis=1)\n",
    "    # save features to csv\n",
    "    subject_name = s.replace(\"../CleandDataV2/\", \"\")\n",
    "    \"\"\" \n",
    "      extract labels from behavior data\n",
    "    \"\"\"\n",
    "    all_label_array = extract_labels(dir_to_data, all_dir=[s])\n",
    "    all_features[\"Valence\"] = all_label_array[\"valence\"]\n",
    "    all_features[\"Arousal\"] = all_label_array[\"arousal\"]\n",
    "    all_features[\"Attention\"] = all_label_array[\"attention\"]\n",
    "    all_features[\"Subject\"] = [subject_name] * 130\n",
    "    all_features.to_csv(f\"eeg_features2/{subject_name}_features.csv\", index=False)"
   ]
  },
  {
   "cell_type": "code",
   "execution_count": 65,
   "id": "b784d869",
   "metadata": {},
   "outputs": [
    {
     "data": {
      "application/vnd.plotly.v1+json": {
       "config": {
        "plotlyServerURL": "https://plot.ly"
       },
       "data": [
        {
         "hovertemplate": "condition=h_valence<br>C1_2d=%{x}<br>C2_2d=%{y}<extra></extra>",
         "legendgroup": "h_valence",
         "marker": {
          "color": "#636efa",
          "symbol": "circle"
         },
         "mode": "markers",
         "name": "h_valence",
         "orientation": "v",
         "showlegend": true,
         "type": "scatter",
         "x": [
          2.7875187397003174,
          -1.5229322910308838,
          -3.154529333114624,
          -2.726672649383545,
          -3.928318977355957,
          -3.1752331256866455,
          -3.6228671073913574,
          -1.867189645767212,
          -2.888719081878662,
          -3.063749313354492,
          -4.0135345458984375,
          -0.18257232010364532,
          2.8799867630004883,
          -0.07871603220701218,
          1.0432316064834595,
          -2.094541549682617,
          -2.595071315765381,
          -2.840094566345215,
          -0.14079366624355316,
          -2.690697193145752,
          -2.4671437740325928,
          -3.4464704990386963,
          1.3908509016036987,
          2.3926045894622803,
          2.8289921283721924,
          -0.5817151069641113,
          -4.030786037445068,
          -3.8883936405181885,
          -3.8696680068969727,
          -3.6745388507843018,
          -1.7412763833999634,
          -1.7864525318145752,
          -2.0815212726593018,
          2.595721960067749,
          2.7371633052825928,
          2.746290445327759,
          0.8527431488037109,
          -4.047208309173584,
          -3.177670955657959,
          -0.6629945635795593,
          -2.1790287494659424,
          -2.359475612640381,
          -1.005229115486145,
          -3.696107864379883,
          -0.19340880215168,
          2.895477533340454,
          -2.586693286895752,
          1.2569684982299805,
          -0.4174615442752838,
          0.03187220171093941,
          -0.7085078954696655,
          -3.0809578895568848
         ],
         "xaxis": "x",
         "y": [
          4.42519998550415,
          2.490746021270752,
          -2.65762996673584,
          -2.5071451663970947,
          -1.3034096956253052,
          -2.366039991378784,
          -2.122468948364258,
          2.721250534057617,
          1.0099233388900757,
          -0.6641720533370972,
          -1.107311487197876,
          4.578848361968994,
          4.675557613372803,
          4.904781341552734,
          3.9337644577026367,
          -0.49391433596611023,
          1.2521765232086182,
          0.6162400245666504,
          4.122860908508301,
          -2.5754165649414062,
          -2.6044373512268066,
          -1.9489952325820923,
          3.776979684829712,
          4.49336051940918,
          4.674816131591797,
          2.0242860317230225,
          -0.837418258190155,
          -0.7154580354690552,
          -1.7159281969070435,
          -0.7554898262023926,
          3.0600783824920654,
          3.231898069381714,
          1.6670836210250854,
          4.258317470550537,
          4.794349670410156,
          4.807424545288086,
          3.6428165435791016,
          -0.6408349871635437,
          -2.1717419624328613,
          4.701671600341797,
          2.764852285385132,
          2.480161428451538,
          4.1449127197265625,
          -0.8346915245056152,
          4.22967004776001,
          4.49029541015625,
          2.00282621383667,
          3.5756280422210693,
          3.2154595851898193,
          4.294580936431885,
          1.8837264776229858,
          -0.49474143981933594
         ],
         "yaxis": "y"
        },
        {
         "hovertemplate": "condition=n_valence<br>C1_2d=%{x}<br>C2_2d=%{y}<extra></extra>",
         "legendgroup": "n_valence",
         "marker": {
          "color": "#EF553B",
          "symbol": "circle"
         },
         "mode": "markers",
         "name": "n_valence",
         "orientation": "v",
         "showlegend": true,
         "type": "scatter",
         "x": [
          1.7216510772705078,
          -0.7469179630279541,
          -1.1192268133163452,
          -1.16666579246521,
          -2.039611339569092,
          -3.5598998069763184,
          -2.2121481895446777,
          -3.0356109142303467,
          -3.7091877460479736,
          -0.6480395793914795,
          -0.8129498362541199,
          -1.9162222146987915,
          -0.7630777359008789,
          -3.371194362640381,
          -2.207528591156006,
          -2.840663433074951,
          -1.7481130361557007,
          -2.00203800201416,
          0.08606968820095062,
          -2.6852593421936035,
          -2.7515132427215576,
          -1.5244978666305542,
          -1.1825411319732666,
          -2.737790584564209,
          -0.0463489405810833,
          -3.501431941986084,
          -0.38002994656562805,
          0.22662684321403503,
          0.9981381297111511,
          -1.2833714485168457,
          -2.7567944526672363,
          -2.954237461090088,
          -3.24839448928833,
          -2.6021780967712402,
          -4.224506855010986,
          -2.8484814167022705,
          1.1346181631088257,
          2.6563735008239746,
          0.9992234706878662,
          -3.8291237354278564,
          -2.4745068550109863,
          -1.1351292133331299,
          0.6892468929290771,
          2.477177143096924,
          2.009533166885376,
          2.542940616607666,
          0.22819438576698303,
          -0.10710716247558594,
          -4.190639495849609,
          -4.226500988006592,
          -4.017858505249023,
          -3.361131191253662
         ],
         "xaxis": "x",
         "y": [
          4.00796365737915,
          2.3182921409606934,
          2.5305421352386475,
          1.010887622833252,
          -0.1094876155257225,
          -1.3015706539154053,
          -0.942297101020813,
          -2.837320327758789,
          -0.4527013897895813,
          4.435816287994385,
          3.5468218326568604,
          2.9506473541259766,
          4.051368713378906,
          0.2766610085964203,
          2.209043264389038,
          2.4196856021881104,
          2.068136215209961,
          2.335883617401123,
          3.9445998668670654,
          2.4960389137268066,
          2.455176591873169,
          1.6970142126083374,
          3.173266887664795,
          2.046613931655884,
          3.4055042266845703,
          -0.4111787974834442,
          4.746669769287109,
          4.858440399169922,
          4.099364757537842,
          2.7388083934783936,
          -2.438998222351074,
          -2.8244130611419678,
          -1.852407455444336,
          -2.6463584899902344,
          -0.6633772850036621,
          1.6824809312820435,
          3.7159674167633057,
          4.6435546875,
          3.4311342239379883,
          -1.7913901805877686,
          3.0583486557006836,
          2.701495885848999,
          3.5100274085998535,
          4.20685338973999,
          4.396772861480713,
          4.2920355796813965,
          2.6568169593811035,
          2.861424684524536,
          -0.39324986934661865,
          -0.9478662610054016,
          -0.3091973662376404,
          -0.13188807666301727
         ],
         "yaxis": "y"
        },
        {
         "hovertemplate": "condition=mind wandering<br>C1_2d=%{x}<br>C2_2d=%{y}<extra></extra>",
         "legendgroup": "mind wandering",
         "marker": {
          "color": "#00cc96",
          "symbol": "circle"
         },
         "mode": "markers",
         "name": "mind wandering",
         "orientation": "v",
         "showlegend": true,
         "type": "scatter",
         "x": [
          -3.597311019897461,
          -4.255057334899902,
          -0.49689191579818726,
          -0.8898647427558899,
          -0.3268043100833893,
          -2.4169907569885254,
          0.34649020433425903,
          1.8548227548599243,
          2.2025017738342285,
          -0.774099588394165,
          -1.057152271270752,
          -3.408036947250366,
          -3.3669843673706055
         ],
         "xaxis": "x",
         "y": [
          -0.12613974511623383,
          -0.9732334017753601,
          4.274497985839844,
          3.0882155895233154,
          3.7556416988372803,
          1.7329577207565308,
          4.5207133293151855,
          4.2355756759643555,
          4.152285099029541,
          1.8137564659118652,
          1.7021679878234863,
          -2.408128499984741,
          0.13070176541805267
         ],
         "yaxis": "y"
        },
        {
         "hovertemplate": "condition=meditation<br>C1_2d=%{x}<br>C2_2d=%{y}<extra></extra>",
         "legendgroup": "meditation",
         "marker": {
          "color": "#ab63fa",
          "symbol": "circle"
         },
         "mode": "markers",
         "name": "meditation",
         "orientation": "v",
         "showlegend": true,
         "type": "scatter",
         "x": [
          -3.411813497543335,
          -0.5737916827201843,
          -0.4204027056694031,
          -2.5976576805114746,
          1.8753596544265747,
          1.9846558570861816,
          0.26996827125549316,
          -1.6966995000839233,
          -0.3772452175617218,
          -3.1735262870788574,
          -2.880875587463379,
          -2.3988420963287354,
          -1.001488208770752
         ],
         "xaxis": "x",
         "y": [
          -1.788011908531189,
          4.274651050567627,
          2.325977087020874,
          2.71334171295166,
          4.264723300933838,
          4.309162139892578,
          2.854081153869629,
          1.5310773849487305,
          4.707248210906982,
          0.5675637125968933,
          -2.8717691898345947,
          3.222761392593384,
          1.3397369384765625
         ],
         "yaxis": "y"
        }
       ],
       "layout": {
        "legend": {
         "title": {
          "text": "condition"
         },
         "tracegroupgap": 0
        },
        "margin": {
         "t": 60
        },
        "template": {
         "data": {
          "bar": [
           {
            "error_x": {
             "color": "#2a3f5f"
            },
            "error_y": {
             "color": "#2a3f5f"
            },
            "marker": {
             "line": {
              "color": "#E5ECF6",
              "width": 0.5
             },
             "pattern": {
              "fillmode": "overlay",
              "size": 10,
              "solidity": 0.2
             }
            },
            "type": "bar"
           }
          ],
          "barpolar": [
           {
            "marker": {
             "line": {
              "color": "#E5ECF6",
              "width": 0.5
             },
             "pattern": {
              "fillmode": "overlay",
              "size": 10,
              "solidity": 0.2
             }
            },
            "type": "barpolar"
           }
          ],
          "carpet": [
           {
            "aaxis": {
             "endlinecolor": "#2a3f5f",
             "gridcolor": "white",
             "linecolor": "white",
             "minorgridcolor": "white",
             "startlinecolor": "#2a3f5f"
            },
            "baxis": {
             "endlinecolor": "#2a3f5f",
             "gridcolor": "white",
             "linecolor": "white",
             "minorgridcolor": "white",
             "startlinecolor": "#2a3f5f"
            },
            "type": "carpet"
           }
          ],
          "choropleth": [
           {
            "colorbar": {
             "outlinewidth": 0,
             "ticks": ""
            },
            "type": "choropleth"
           }
          ],
          "contour": [
           {
            "colorbar": {
             "outlinewidth": 0,
             "ticks": ""
            },
            "colorscale": [
             [
              0,
              "#0d0887"
             ],
             [
              0.1111111111111111,
              "#46039f"
             ],
             [
              0.2222222222222222,
              "#7201a8"
             ],
             [
              0.3333333333333333,
              "#9c179e"
             ],
             [
              0.4444444444444444,
              "#bd3786"
             ],
             [
              0.5555555555555556,
              "#d8576b"
             ],
             [
              0.6666666666666666,
              "#ed7953"
             ],
             [
              0.7777777777777778,
              "#fb9f3a"
             ],
             [
              0.8888888888888888,
              "#fdca26"
             ],
             [
              1,
              "#f0f921"
             ]
            ],
            "type": "contour"
           }
          ],
          "contourcarpet": [
           {
            "colorbar": {
             "outlinewidth": 0,
             "ticks": ""
            },
            "type": "contourcarpet"
           }
          ],
          "heatmap": [
           {
            "colorbar": {
             "outlinewidth": 0,
             "ticks": ""
            },
            "colorscale": [
             [
              0,
              "#0d0887"
             ],
             [
              0.1111111111111111,
              "#46039f"
             ],
             [
              0.2222222222222222,
              "#7201a8"
             ],
             [
              0.3333333333333333,
              "#9c179e"
             ],
             [
              0.4444444444444444,
              "#bd3786"
             ],
             [
              0.5555555555555556,
              "#d8576b"
             ],
             [
              0.6666666666666666,
              "#ed7953"
             ],
             [
              0.7777777777777778,
              "#fb9f3a"
             ],
             [
              0.8888888888888888,
              "#fdca26"
             ],
             [
              1,
              "#f0f921"
             ]
            ],
            "type": "heatmap"
           }
          ],
          "heatmapgl": [
           {
            "colorbar": {
             "outlinewidth": 0,
             "ticks": ""
            },
            "colorscale": [
             [
              0,
              "#0d0887"
             ],
             [
              0.1111111111111111,
              "#46039f"
             ],
             [
              0.2222222222222222,
              "#7201a8"
             ],
             [
              0.3333333333333333,
              "#9c179e"
             ],
             [
              0.4444444444444444,
              "#bd3786"
             ],
             [
              0.5555555555555556,
              "#d8576b"
             ],
             [
              0.6666666666666666,
              "#ed7953"
             ],
             [
              0.7777777777777778,
              "#fb9f3a"
             ],
             [
              0.8888888888888888,
              "#fdca26"
             ],
             [
              1,
              "#f0f921"
             ]
            ],
            "type": "heatmapgl"
           }
          ],
          "histogram": [
           {
            "marker": {
             "pattern": {
              "fillmode": "overlay",
              "size": 10,
              "solidity": 0.2
             }
            },
            "type": "histogram"
           }
          ],
          "histogram2d": [
           {
            "colorbar": {
             "outlinewidth": 0,
             "ticks": ""
            },
            "colorscale": [
             [
              0,
              "#0d0887"
             ],
             [
              0.1111111111111111,
              "#46039f"
             ],
             [
              0.2222222222222222,
              "#7201a8"
             ],
             [
              0.3333333333333333,
              "#9c179e"
             ],
             [
              0.4444444444444444,
              "#bd3786"
             ],
             [
              0.5555555555555556,
              "#d8576b"
             ],
             [
              0.6666666666666666,
              "#ed7953"
             ],
             [
              0.7777777777777778,
              "#fb9f3a"
             ],
             [
              0.8888888888888888,
              "#fdca26"
             ],
             [
              1,
              "#f0f921"
             ]
            ],
            "type": "histogram2d"
           }
          ],
          "histogram2dcontour": [
           {
            "colorbar": {
             "outlinewidth": 0,
             "ticks": ""
            },
            "colorscale": [
             [
              0,
              "#0d0887"
             ],
             [
              0.1111111111111111,
              "#46039f"
             ],
             [
              0.2222222222222222,
              "#7201a8"
             ],
             [
              0.3333333333333333,
              "#9c179e"
             ],
             [
              0.4444444444444444,
              "#bd3786"
             ],
             [
              0.5555555555555556,
              "#d8576b"
             ],
             [
              0.6666666666666666,
              "#ed7953"
             ],
             [
              0.7777777777777778,
              "#fb9f3a"
             ],
             [
              0.8888888888888888,
              "#fdca26"
             ],
             [
              1,
              "#f0f921"
             ]
            ],
            "type": "histogram2dcontour"
           }
          ],
          "mesh3d": [
           {
            "colorbar": {
             "outlinewidth": 0,
             "ticks": ""
            },
            "type": "mesh3d"
           }
          ],
          "parcoords": [
           {
            "line": {
             "colorbar": {
              "outlinewidth": 0,
              "ticks": ""
             }
            },
            "type": "parcoords"
           }
          ],
          "pie": [
           {
            "automargin": true,
            "type": "pie"
           }
          ],
          "scatter": [
           {
            "fillpattern": {
             "fillmode": "overlay",
             "size": 10,
             "solidity": 0.2
            },
            "type": "scatter"
           }
          ],
          "scatter3d": [
           {
            "line": {
             "colorbar": {
              "outlinewidth": 0,
              "ticks": ""
             }
            },
            "marker": {
             "colorbar": {
              "outlinewidth": 0,
              "ticks": ""
             }
            },
            "type": "scatter3d"
           }
          ],
          "scattercarpet": [
           {
            "marker": {
             "colorbar": {
              "outlinewidth": 0,
              "ticks": ""
             }
            },
            "type": "scattercarpet"
           }
          ],
          "scattergeo": [
           {
            "marker": {
             "colorbar": {
              "outlinewidth": 0,
              "ticks": ""
             }
            },
            "type": "scattergeo"
           }
          ],
          "scattergl": [
           {
            "marker": {
             "colorbar": {
              "outlinewidth": 0,
              "ticks": ""
             }
            },
            "type": "scattergl"
           }
          ],
          "scattermapbox": [
           {
            "marker": {
             "colorbar": {
              "outlinewidth": 0,
              "ticks": ""
             }
            },
            "type": "scattermapbox"
           }
          ],
          "scatterpolar": [
           {
            "marker": {
             "colorbar": {
              "outlinewidth": 0,
              "ticks": ""
             }
            },
            "type": "scatterpolar"
           }
          ],
          "scatterpolargl": [
           {
            "marker": {
             "colorbar": {
              "outlinewidth": 0,
              "ticks": ""
             }
            },
            "type": "scatterpolargl"
           }
          ],
          "scatterternary": [
           {
            "marker": {
             "colorbar": {
              "outlinewidth": 0,
              "ticks": ""
             }
            },
            "type": "scatterternary"
           }
          ],
          "surface": [
           {
            "colorbar": {
             "outlinewidth": 0,
             "ticks": ""
            },
            "colorscale": [
             [
              0,
              "#0d0887"
             ],
             [
              0.1111111111111111,
              "#46039f"
             ],
             [
              0.2222222222222222,
              "#7201a8"
             ],
             [
              0.3333333333333333,
              "#9c179e"
             ],
             [
              0.4444444444444444,
              "#bd3786"
             ],
             [
              0.5555555555555556,
              "#d8576b"
             ],
             [
              0.6666666666666666,
              "#ed7953"
             ],
             [
              0.7777777777777778,
              "#fb9f3a"
             ],
             [
              0.8888888888888888,
              "#fdca26"
             ],
             [
              1,
              "#f0f921"
             ]
            ],
            "type": "surface"
           }
          ],
          "table": [
           {
            "cells": {
             "fill": {
              "color": "#EBF0F8"
             },
             "line": {
              "color": "white"
             }
            },
            "header": {
             "fill": {
              "color": "#C8D4E3"
             },
             "line": {
              "color": "white"
             }
            },
            "type": "table"
           }
          ]
         },
         "layout": {
          "annotationdefaults": {
           "arrowcolor": "#2a3f5f",
           "arrowhead": 0,
           "arrowwidth": 1
          },
          "autotypenumbers": "strict",
          "coloraxis": {
           "colorbar": {
            "outlinewidth": 0,
            "ticks": ""
           }
          },
          "colorscale": {
           "diverging": [
            [
             0,
             "#8e0152"
            ],
            [
             0.1,
             "#c51b7d"
            ],
            [
             0.2,
             "#de77ae"
            ],
            [
             0.3,
             "#f1b6da"
            ],
            [
             0.4,
             "#fde0ef"
            ],
            [
             0.5,
             "#f7f7f7"
            ],
            [
             0.6,
             "#e6f5d0"
            ],
            [
             0.7,
             "#b8e186"
            ],
            [
             0.8,
             "#7fbc41"
            ],
            [
             0.9,
             "#4d9221"
            ],
            [
             1,
             "#276419"
            ]
           ],
           "sequential": [
            [
             0,
             "#0d0887"
            ],
            [
             0.1111111111111111,
             "#46039f"
            ],
            [
             0.2222222222222222,
             "#7201a8"
            ],
            [
             0.3333333333333333,
             "#9c179e"
            ],
            [
             0.4444444444444444,
             "#bd3786"
            ],
            [
             0.5555555555555556,
             "#d8576b"
            ],
            [
             0.6666666666666666,
             "#ed7953"
            ],
            [
             0.7777777777777778,
             "#fb9f3a"
            ],
            [
             0.8888888888888888,
             "#fdca26"
            ],
            [
             1,
             "#f0f921"
            ]
           ],
           "sequentialminus": [
            [
             0,
             "#0d0887"
            ],
            [
             0.1111111111111111,
             "#46039f"
            ],
            [
             0.2222222222222222,
             "#7201a8"
            ],
            [
             0.3333333333333333,
             "#9c179e"
            ],
            [
             0.4444444444444444,
             "#bd3786"
            ],
            [
             0.5555555555555556,
             "#d8576b"
            ],
            [
             0.6666666666666666,
             "#ed7953"
            ],
            [
             0.7777777777777778,
             "#fb9f3a"
            ],
            [
             0.8888888888888888,
             "#fdca26"
            ],
            [
             1,
             "#f0f921"
            ]
           ]
          },
          "colorway": [
           "#636efa",
           "#EF553B",
           "#00cc96",
           "#ab63fa",
           "#FFA15A",
           "#19d3f3",
           "#FF6692",
           "#B6E880",
           "#FF97FF",
           "#FECB52"
          ],
          "font": {
           "color": "#2a3f5f"
          },
          "geo": {
           "bgcolor": "white",
           "lakecolor": "white",
           "landcolor": "#E5ECF6",
           "showlakes": true,
           "showland": true,
           "subunitcolor": "white"
          },
          "hoverlabel": {
           "align": "left"
          },
          "hovermode": "closest",
          "mapbox": {
           "style": "light"
          },
          "paper_bgcolor": "white",
          "plot_bgcolor": "#E5ECF6",
          "polar": {
           "angularaxis": {
            "gridcolor": "white",
            "linecolor": "white",
            "ticks": ""
           },
           "bgcolor": "#E5ECF6",
           "radialaxis": {
            "gridcolor": "white",
            "linecolor": "white",
            "ticks": ""
           }
          },
          "scene": {
           "xaxis": {
            "backgroundcolor": "#E5ECF6",
            "gridcolor": "white",
            "gridwidth": 2,
            "linecolor": "white",
            "showbackground": true,
            "ticks": "",
            "zerolinecolor": "white"
           },
           "yaxis": {
            "backgroundcolor": "#E5ECF6",
            "gridcolor": "white",
            "gridwidth": 2,
            "linecolor": "white",
            "showbackground": true,
            "ticks": "",
            "zerolinecolor": "white"
           },
           "zaxis": {
            "backgroundcolor": "#E5ECF6",
            "gridcolor": "white",
            "gridwidth": 2,
            "linecolor": "white",
            "showbackground": true,
            "ticks": "",
            "zerolinecolor": "white"
           }
          },
          "shapedefaults": {
           "line": {
            "color": "#2a3f5f"
           }
          },
          "ternary": {
           "aaxis": {
            "gridcolor": "white",
            "linecolor": "white",
            "ticks": ""
           },
           "baxis": {
            "gridcolor": "white",
            "linecolor": "white",
            "ticks": ""
           },
           "bgcolor": "#E5ECF6",
           "caxis": {
            "gridcolor": "white",
            "linecolor": "white",
            "ticks": ""
           }
          },
          "title": {
           "x": 0.05
          },
          "xaxis": {
           "automargin": true,
           "gridcolor": "white",
           "linecolor": "white",
           "ticks": "",
           "title": {
            "standoff": 15
           },
           "zerolinecolor": "white",
           "zerolinewidth": 2
          },
          "yaxis": {
           "automargin": true,
           "gridcolor": "white",
           "linecolor": "white",
           "ticks": "",
           "title": {
            "standoff": 15
           },
           "zerolinecolor": "white",
           "zerolinewidth": 2
          }
         }
        },
        "title": {
         "text": "Subject 2024 EMG"
        },
        "xaxis": {
         "anchor": "y",
         "domain": [
          0,
          1
         ],
         "title": {
          "text": "C1_2d"
         }
        },
        "yaxis": {
         "anchor": "x",
         "domain": [
          0,
          1
         ],
         "title": {
          "text": "C2_2d"
         }
        }
       }
      },
      "text/html": [
       "<div>                            <div id=\"322e8497-eddb-4565-8788-39486829b8c3\" class=\"plotly-graph-div\" style=\"height:525px; width:100%;\"></div>            <script type=\"text/javascript\">                require([\"plotly\"], function(Plotly) {                    window.PLOTLYENV=window.PLOTLYENV || {};                                    if (document.getElementById(\"322e8497-eddb-4565-8788-39486829b8c3\")) {                    Plotly.newPlot(                        \"322e8497-eddb-4565-8788-39486829b8c3\",                        [{\"hovertemplate\":\"condition=h_valence<br>C1_2d=%{x}<br>C2_2d=%{y}<extra></extra>\",\"legendgroup\":\"h_valence\",\"marker\":{\"color\":\"#636efa\",\"symbol\":\"circle\"},\"mode\":\"markers\",\"name\":\"h_valence\",\"orientation\":\"v\",\"showlegend\":true,\"x\":[2.7875187397003174,-1.5229322910308838,-3.154529333114624,-2.726672649383545,-3.928318977355957,-3.1752331256866455,-3.6228671073913574,-1.867189645767212,-2.888719081878662,-3.063749313354492,-4.0135345458984375,-0.18257232010364532,2.8799867630004883,-0.07871603220701218,1.0432316064834595,-2.094541549682617,-2.595071315765381,-2.840094566345215,-0.14079366624355316,-2.690697193145752,-2.4671437740325928,-3.4464704990386963,1.3908509016036987,2.3926045894622803,2.8289921283721924,-0.5817151069641113,-4.030786037445068,-3.8883936405181885,-3.8696680068969727,-3.6745388507843018,-1.7412763833999634,-1.7864525318145752,-2.0815212726593018,2.595721960067749,2.7371633052825928,2.746290445327759,0.8527431488037109,-4.047208309173584,-3.177670955657959,-0.6629945635795593,-2.1790287494659424,-2.359475612640381,-1.005229115486145,-3.696107864379883,-0.19340880215168,2.895477533340454,-2.586693286895752,1.2569684982299805,-0.4174615442752838,0.03187220171093941,-0.7085078954696655,-3.0809578895568848],\"xaxis\":\"x\",\"y\":[4.42519998550415,2.490746021270752,-2.65762996673584,-2.5071451663970947,-1.3034096956253052,-2.366039991378784,-2.122468948364258,2.721250534057617,1.0099233388900757,-0.6641720533370972,-1.107311487197876,4.578848361968994,4.675557613372803,4.904781341552734,3.9337644577026367,-0.49391433596611023,1.2521765232086182,0.6162400245666504,4.122860908508301,-2.5754165649414062,-2.6044373512268066,-1.9489952325820923,3.776979684829712,4.49336051940918,4.674816131591797,2.0242860317230225,-0.837418258190155,-0.7154580354690552,-1.7159281969070435,-0.7554898262023926,3.0600783824920654,3.231898069381714,1.6670836210250854,4.258317470550537,4.794349670410156,4.807424545288086,3.6428165435791016,-0.6408349871635437,-2.1717419624328613,4.701671600341797,2.764852285385132,2.480161428451538,4.1449127197265625,-0.8346915245056152,4.22967004776001,4.49029541015625,2.00282621383667,3.5756280422210693,3.2154595851898193,4.294580936431885,1.8837264776229858,-0.49474143981933594],\"yaxis\":\"y\",\"type\":\"scatter\"},{\"hovertemplate\":\"condition=n_valence<br>C1_2d=%{x}<br>C2_2d=%{y}<extra></extra>\",\"legendgroup\":\"n_valence\",\"marker\":{\"color\":\"#EF553B\",\"symbol\":\"circle\"},\"mode\":\"markers\",\"name\":\"n_valence\",\"orientation\":\"v\",\"showlegend\":true,\"x\":[1.7216510772705078,-0.7469179630279541,-1.1192268133163452,-1.16666579246521,-2.039611339569092,-3.5598998069763184,-2.2121481895446777,-3.0356109142303467,-3.7091877460479736,-0.6480395793914795,-0.8129498362541199,-1.9162222146987915,-0.7630777359008789,-3.371194362640381,-2.207528591156006,-2.840663433074951,-1.7481130361557007,-2.00203800201416,0.08606968820095062,-2.6852593421936035,-2.7515132427215576,-1.5244978666305542,-1.1825411319732666,-2.737790584564209,-0.0463489405810833,-3.501431941986084,-0.38002994656562805,0.22662684321403503,0.9981381297111511,-1.2833714485168457,-2.7567944526672363,-2.954237461090088,-3.24839448928833,-2.6021780967712402,-4.224506855010986,-2.8484814167022705,1.1346181631088257,2.6563735008239746,0.9992234706878662,-3.8291237354278564,-2.4745068550109863,-1.1351292133331299,0.6892468929290771,2.477177143096924,2.009533166885376,2.542940616607666,0.22819438576698303,-0.10710716247558594,-4.190639495849609,-4.226500988006592,-4.017858505249023,-3.361131191253662],\"xaxis\":\"x\",\"y\":[4.00796365737915,2.3182921409606934,2.5305421352386475,1.010887622833252,-0.1094876155257225,-1.3015706539154053,-0.942297101020813,-2.837320327758789,-0.4527013897895813,4.435816287994385,3.5468218326568604,2.9506473541259766,4.051368713378906,0.2766610085964203,2.209043264389038,2.4196856021881104,2.068136215209961,2.335883617401123,3.9445998668670654,2.4960389137268066,2.455176591873169,1.6970142126083374,3.173266887664795,2.046613931655884,3.4055042266845703,-0.4111787974834442,4.746669769287109,4.858440399169922,4.099364757537842,2.7388083934783936,-2.438998222351074,-2.8244130611419678,-1.852407455444336,-2.6463584899902344,-0.6633772850036621,1.6824809312820435,3.7159674167633057,4.6435546875,3.4311342239379883,-1.7913901805877686,3.0583486557006836,2.701495885848999,3.5100274085998535,4.20685338973999,4.396772861480713,4.2920355796813965,2.6568169593811035,2.861424684524536,-0.39324986934661865,-0.9478662610054016,-0.3091973662376404,-0.13188807666301727],\"yaxis\":\"y\",\"type\":\"scatter\"},{\"hovertemplate\":\"condition=mind wandering<br>C1_2d=%{x}<br>C2_2d=%{y}<extra></extra>\",\"legendgroup\":\"mind wandering\",\"marker\":{\"color\":\"#00cc96\",\"symbol\":\"circle\"},\"mode\":\"markers\",\"name\":\"mind wandering\",\"orientation\":\"v\",\"showlegend\":true,\"x\":[-3.597311019897461,-4.255057334899902,-0.49689191579818726,-0.8898647427558899,-0.3268043100833893,-2.4169907569885254,0.34649020433425903,1.8548227548599243,2.2025017738342285,-0.774099588394165,-1.057152271270752,-3.408036947250366,-3.3669843673706055],\"xaxis\":\"x\",\"y\":[-0.12613974511623383,-0.9732334017753601,4.274497985839844,3.0882155895233154,3.7556416988372803,1.7329577207565308,4.5207133293151855,4.2355756759643555,4.152285099029541,1.8137564659118652,1.7021679878234863,-2.408128499984741,0.13070176541805267],\"yaxis\":\"y\",\"type\":\"scatter\"},{\"hovertemplate\":\"condition=meditation<br>C1_2d=%{x}<br>C2_2d=%{y}<extra></extra>\",\"legendgroup\":\"meditation\",\"marker\":{\"color\":\"#ab63fa\",\"symbol\":\"circle\"},\"mode\":\"markers\",\"name\":\"meditation\",\"orientation\":\"v\",\"showlegend\":true,\"x\":[-3.411813497543335,-0.5737916827201843,-0.4204027056694031,-2.5976576805114746,1.8753596544265747,1.9846558570861816,0.26996827125549316,-1.6966995000839233,-0.3772452175617218,-3.1735262870788574,-2.880875587463379,-2.3988420963287354,-1.001488208770752],\"xaxis\":\"x\",\"y\":[-1.788011908531189,4.274651050567627,2.325977087020874,2.71334171295166,4.264723300933838,4.309162139892578,2.854081153869629,1.5310773849487305,4.707248210906982,0.5675637125968933,-2.8717691898345947,3.222761392593384,1.3397369384765625],\"yaxis\":\"y\",\"type\":\"scatter\"}],                        {\"template\":{\"data\":{\"histogram2dcontour\":[{\"type\":\"histogram2dcontour\",\"colorbar\":{\"outlinewidth\":0,\"ticks\":\"\"},\"colorscale\":[[0.0,\"#0d0887\"],[0.1111111111111111,\"#46039f\"],[0.2222222222222222,\"#7201a8\"],[0.3333333333333333,\"#9c179e\"],[0.4444444444444444,\"#bd3786\"],[0.5555555555555556,\"#d8576b\"],[0.6666666666666666,\"#ed7953\"],[0.7777777777777778,\"#fb9f3a\"],[0.8888888888888888,\"#fdca26\"],[1.0,\"#f0f921\"]]}],\"choropleth\":[{\"type\":\"choropleth\",\"colorbar\":{\"outlinewidth\":0,\"ticks\":\"\"}}],\"histogram2d\":[{\"type\":\"histogram2d\",\"colorbar\":{\"outlinewidth\":0,\"ticks\":\"\"},\"colorscale\":[[0.0,\"#0d0887\"],[0.1111111111111111,\"#46039f\"],[0.2222222222222222,\"#7201a8\"],[0.3333333333333333,\"#9c179e\"],[0.4444444444444444,\"#bd3786\"],[0.5555555555555556,\"#d8576b\"],[0.6666666666666666,\"#ed7953\"],[0.7777777777777778,\"#fb9f3a\"],[0.8888888888888888,\"#fdca26\"],[1.0,\"#f0f921\"]]}],\"heatmap\":[{\"type\":\"heatmap\",\"colorbar\":{\"outlinewidth\":0,\"ticks\":\"\"},\"colorscale\":[[0.0,\"#0d0887\"],[0.1111111111111111,\"#46039f\"],[0.2222222222222222,\"#7201a8\"],[0.3333333333333333,\"#9c179e\"],[0.4444444444444444,\"#bd3786\"],[0.5555555555555556,\"#d8576b\"],[0.6666666666666666,\"#ed7953\"],[0.7777777777777778,\"#fb9f3a\"],[0.8888888888888888,\"#fdca26\"],[1.0,\"#f0f921\"]]}],\"heatmapgl\":[{\"type\":\"heatmapgl\",\"colorbar\":{\"outlinewidth\":0,\"ticks\":\"\"},\"colorscale\":[[0.0,\"#0d0887\"],[0.1111111111111111,\"#46039f\"],[0.2222222222222222,\"#7201a8\"],[0.3333333333333333,\"#9c179e\"],[0.4444444444444444,\"#bd3786\"],[0.5555555555555556,\"#d8576b\"],[0.6666666666666666,\"#ed7953\"],[0.7777777777777778,\"#fb9f3a\"],[0.8888888888888888,\"#fdca26\"],[1.0,\"#f0f921\"]]}],\"contourcarpet\":[{\"type\":\"contourcarpet\",\"colorbar\":{\"outlinewidth\":0,\"ticks\":\"\"}}],\"contour\":[{\"type\":\"contour\",\"colorbar\":{\"outlinewidth\":0,\"ticks\":\"\"},\"colorscale\":[[0.0,\"#0d0887\"],[0.1111111111111111,\"#46039f\"],[0.2222222222222222,\"#7201a8\"],[0.3333333333333333,\"#9c179e\"],[0.4444444444444444,\"#bd3786\"],[0.5555555555555556,\"#d8576b\"],[0.6666666666666666,\"#ed7953\"],[0.7777777777777778,\"#fb9f3a\"],[0.8888888888888888,\"#fdca26\"],[1.0,\"#f0f921\"]]}],\"surface\":[{\"type\":\"surface\",\"colorbar\":{\"outlinewidth\":0,\"ticks\":\"\"},\"colorscale\":[[0.0,\"#0d0887\"],[0.1111111111111111,\"#46039f\"],[0.2222222222222222,\"#7201a8\"],[0.3333333333333333,\"#9c179e\"],[0.4444444444444444,\"#bd3786\"],[0.5555555555555556,\"#d8576b\"],[0.6666666666666666,\"#ed7953\"],[0.7777777777777778,\"#fb9f3a\"],[0.8888888888888888,\"#fdca26\"],[1.0,\"#f0f921\"]]}],\"mesh3d\":[{\"type\":\"mesh3d\",\"colorbar\":{\"outlinewidth\":0,\"ticks\":\"\"}}],\"scatter\":[{\"fillpattern\":{\"fillmode\":\"overlay\",\"size\":10,\"solidity\":0.2},\"type\":\"scatter\"}],\"parcoords\":[{\"type\":\"parcoords\",\"line\":{\"colorbar\":{\"outlinewidth\":0,\"ticks\":\"\"}}}],\"scatterpolargl\":[{\"type\":\"scatterpolargl\",\"marker\":{\"colorbar\":{\"outlinewidth\":0,\"ticks\":\"\"}}}],\"bar\":[{\"error_x\":{\"color\":\"#2a3f5f\"},\"error_y\":{\"color\":\"#2a3f5f\"},\"marker\":{\"line\":{\"color\":\"#E5ECF6\",\"width\":0.5},\"pattern\":{\"fillmode\":\"overlay\",\"size\":10,\"solidity\":0.2}},\"type\":\"bar\"}],\"scattergeo\":[{\"type\":\"scattergeo\",\"marker\":{\"colorbar\":{\"outlinewidth\":0,\"ticks\":\"\"}}}],\"scatterpolar\":[{\"type\":\"scatterpolar\",\"marker\":{\"colorbar\":{\"outlinewidth\":0,\"ticks\":\"\"}}}],\"histogram\":[{\"marker\":{\"pattern\":{\"fillmode\":\"overlay\",\"size\":10,\"solidity\":0.2}},\"type\":\"histogram\"}],\"scattergl\":[{\"type\":\"scattergl\",\"marker\":{\"colorbar\":{\"outlinewidth\":0,\"ticks\":\"\"}}}],\"scatter3d\":[{\"type\":\"scatter3d\",\"line\":{\"colorbar\":{\"outlinewidth\":0,\"ticks\":\"\"}},\"marker\":{\"colorbar\":{\"outlinewidth\":0,\"ticks\":\"\"}}}],\"scattermapbox\":[{\"type\":\"scattermapbox\",\"marker\":{\"colorbar\":{\"outlinewidth\":0,\"ticks\":\"\"}}}],\"scatterternary\":[{\"type\":\"scatterternary\",\"marker\":{\"colorbar\":{\"outlinewidth\":0,\"ticks\":\"\"}}}],\"scattercarpet\":[{\"type\":\"scattercarpet\",\"marker\":{\"colorbar\":{\"outlinewidth\":0,\"ticks\":\"\"}}}],\"carpet\":[{\"aaxis\":{\"endlinecolor\":\"#2a3f5f\",\"gridcolor\":\"white\",\"linecolor\":\"white\",\"minorgridcolor\":\"white\",\"startlinecolor\":\"#2a3f5f\"},\"baxis\":{\"endlinecolor\":\"#2a3f5f\",\"gridcolor\":\"white\",\"linecolor\":\"white\",\"minorgridcolor\":\"white\",\"startlinecolor\":\"#2a3f5f\"},\"type\":\"carpet\"}],\"table\":[{\"cells\":{\"fill\":{\"color\":\"#EBF0F8\"},\"line\":{\"color\":\"white\"}},\"header\":{\"fill\":{\"color\":\"#C8D4E3\"},\"line\":{\"color\":\"white\"}},\"type\":\"table\"}],\"barpolar\":[{\"marker\":{\"line\":{\"color\":\"#E5ECF6\",\"width\":0.5},\"pattern\":{\"fillmode\":\"overlay\",\"size\":10,\"solidity\":0.2}},\"type\":\"barpolar\"}],\"pie\":[{\"automargin\":true,\"type\":\"pie\"}]},\"layout\":{\"autotypenumbers\":\"strict\",\"colorway\":[\"#636efa\",\"#EF553B\",\"#00cc96\",\"#ab63fa\",\"#FFA15A\",\"#19d3f3\",\"#FF6692\",\"#B6E880\",\"#FF97FF\",\"#FECB52\"],\"font\":{\"color\":\"#2a3f5f\"},\"hovermode\":\"closest\",\"hoverlabel\":{\"align\":\"left\"},\"paper_bgcolor\":\"white\",\"plot_bgcolor\":\"#E5ECF6\",\"polar\":{\"bgcolor\":\"#E5ECF6\",\"angularaxis\":{\"gridcolor\":\"white\",\"linecolor\":\"white\",\"ticks\":\"\"},\"radialaxis\":{\"gridcolor\":\"white\",\"linecolor\":\"white\",\"ticks\":\"\"}},\"ternary\":{\"bgcolor\":\"#E5ECF6\",\"aaxis\":{\"gridcolor\":\"white\",\"linecolor\":\"white\",\"ticks\":\"\"},\"baxis\":{\"gridcolor\":\"white\",\"linecolor\":\"white\",\"ticks\":\"\"},\"caxis\":{\"gridcolor\":\"white\",\"linecolor\":\"white\",\"ticks\":\"\"}},\"coloraxis\":{\"colorbar\":{\"outlinewidth\":0,\"ticks\":\"\"}},\"colorscale\":{\"sequential\":[[0.0,\"#0d0887\"],[0.1111111111111111,\"#46039f\"],[0.2222222222222222,\"#7201a8\"],[0.3333333333333333,\"#9c179e\"],[0.4444444444444444,\"#bd3786\"],[0.5555555555555556,\"#d8576b\"],[0.6666666666666666,\"#ed7953\"],[0.7777777777777778,\"#fb9f3a\"],[0.8888888888888888,\"#fdca26\"],[1.0,\"#f0f921\"]],\"sequentialminus\":[[0.0,\"#0d0887\"],[0.1111111111111111,\"#46039f\"],[0.2222222222222222,\"#7201a8\"],[0.3333333333333333,\"#9c179e\"],[0.4444444444444444,\"#bd3786\"],[0.5555555555555556,\"#d8576b\"],[0.6666666666666666,\"#ed7953\"],[0.7777777777777778,\"#fb9f3a\"],[0.8888888888888888,\"#fdca26\"],[1.0,\"#f0f921\"]],\"diverging\":[[0,\"#8e0152\"],[0.1,\"#c51b7d\"],[0.2,\"#de77ae\"],[0.3,\"#f1b6da\"],[0.4,\"#fde0ef\"],[0.5,\"#f7f7f7\"],[0.6,\"#e6f5d0\"],[0.7,\"#b8e186\"],[0.8,\"#7fbc41\"],[0.9,\"#4d9221\"],[1,\"#276419\"]]},\"xaxis\":{\"gridcolor\":\"white\",\"linecolor\":\"white\",\"ticks\":\"\",\"title\":{\"standoff\":15},\"zerolinecolor\":\"white\",\"automargin\":true,\"zerolinewidth\":2},\"yaxis\":{\"gridcolor\":\"white\",\"linecolor\":\"white\",\"ticks\":\"\",\"title\":{\"standoff\":15},\"zerolinecolor\":\"white\",\"automargin\":true,\"zerolinewidth\":2},\"scene\":{\"xaxis\":{\"backgroundcolor\":\"#E5ECF6\",\"gridcolor\":\"white\",\"linecolor\":\"white\",\"showbackground\":true,\"ticks\":\"\",\"zerolinecolor\":\"white\",\"gridwidth\":2},\"yaxis\":{\"backgroundcolor\":\"#E5ECF6\",\"gridcolor\":\"white\",\"linecolor\":\"white\",\"showbackground\":true,\"ticks\":\"\",\"zerolinecolor\":\"white\",\"gridwidth\":2},\"zaxis\":{\"backgroundcolor\":\"#E5ECF6\",\"gridcolor\":\"white\",\"linecolor\":\"white\",\"showbackground\":true,\"ticks\":\"\",\"zerolinecolor\":\"white\",\"gridwidth\":2}},\"shapedefaults\":{\"line\":{\"color\":\"#2a3f5f\"}},\"annotationdefaults\":{\"arrowcolor\":\"#2a3f5f\",\"arrowhead\":0,\"arrowwidth\":1},\"geo\":{\"bgcolor\":\"white\",\"landcolor\":\"#E5ECF6\",\"subunitcolor\":\"white\",\"showland\":true,\"showlakes\":true,\"lakecolor\":\"white\"},\"title\":{\"x\":0.05},\"mapbox\":{\"style\":\"light\"}}},\"xaxis\":{\"anchor\":\"y\",\"domain\":[0.0,1.0],\"title\":{\"text\":\"C1_2d\"}},\"yaxis\":{\"anchor\":\"x\",\"domain\":[0.0,1.0],\"title\":{\"text\":\"C2_2d\"}},\"legend\":{\"title\":{\"text\":\"condition\"},\"tracegroupgap\":0},\"margin\":{\"t\":60},\"title\":{\"text\":\"Subject 2024 EMG\"}},                        {\"responsive\": true}                    ).then(function(){\n",
       "                            \n",
       "var gd = document.getElementById('322e8497-eddb-4565-8788-39486829b8c3');\n",
       "var x = new MutationObserver(function (mutations, observer) {{\n",
       "        var display = window.getComputedStyle(gd).display;\n",
       "        if (!display || display === 'none') {{\n",
       "            console.log([gd, 'removed!']);\n",
       "            Plotly.purge(gd);\n",
       "            observer.disconnect();\n",
       "        }}\n",
       "}});\n",
       "\n",
       "// Listen for the removal of the full notebook cells\n",
       "var notebookContainer = gd.closest('#notebook-container');\n",
       "if (notebookContainer) {{\n",
       "    x.observe(notebookContainer, {childList: true});\n",
       "}}\n",
       "\n",
       "// Listen for the clearing of the current output cell\n",
       "var outputEl = gd.closest('.output');\n",
       "if (outputEl) {{\n",
       "    x.observe(outputEl, {childList: true});\n",
       "}}\n",
       "\n",
       "                        })                };                });            </script>        </div>"
      ]
     },
     "metadata": {},
     "output_type": "display_data"
    }
   ],
   "source": [
    "import plotly.express as px\n",
    "\n",
    "def get_umap(result: pd.DataFrame):\n",
    "    from umap import UMAP\n",
    "    features = result.drop('condition', axis=1)\n",
    "    \n",
    "    # Run UMAP\n",
    "    umap2d = UMAP(n_components=2, init=\"random\", random_state=0)\n",
    "    proj_2d = pd.DataFrame(umap2d.fit_transform(features))\n",
    "\n",
    "    # Concatanate the umap points and original data\n",
    "    proj_2d.columns = [\"C1_2d\", \"C2_2d\"]\n",
    "    result = result.reset_index()\n",
    "    return pd.concat([result, proj_2d], axis=1, join=\"inner\")\n",
    "\n",
    "def get_conditions(condition: str, mode: str):\n",
    "    if mode == 'v':\n",
    "        if 'hv' in condition:\n",
    "            return 'h_valence'\n",
    "        elif 'nv' in condition:\n",
    "            return 'n_valence'\n",
    "    elif mode == 'a':\n",
    "        if 'ha' in condition:\n",
    "            return 'h_arousal'\n",
    "        elif 'la' in condition:\n",
    "            return 'l_arousal'\n",
    "    else:\n",
    "        if 'breath' in condition:\n",
    "            return 'breath'\n",
    "        elif 'audio' in condition:\n",
    "            return 'audio'\n",
    "    return condition\n",
    "        \n",
    "\n",
    "    \n",
    "all_df = pd.DataFrame()\n",
    "marker = 'EMG'\n",
    "for condition, markers in all_data.items():\n",
    "    df = pd.DataFrame(data=np.swapaxes(markers.get_all_data()[marker][0], 0, 1))\n",
    "    condition = get_conditions(condition, 'v')       \n",
    "    df['condition'] = [condition]*data[2].shape[1]\n",
    "    all_df = pd.concat([all_df, df], axis=0)\n",
    "\n",
    "plotX = get_umap(all_df)\n",
    "\n",
    "fig = px.scatter(\n",
    "    plotX,\n",
    "    x=\"C1_2d\",\n",
    "    y=\"C2_2d\",\n",
    "    color=\"condition\",\n",
    ")\n",
    "fig.update_layout(\n",
    "    title_text=f'Subject 2024 {marker}'\n",
    ")\n",
    "fig.show()"
   ]
  },
  {
   "cell_type": "code",
   "execution_count": null,
   "id": "c90267ec",
   "metadata": {},
   "outputs": [],
   "source": [
    "\"\"\"\n",
    "    calculate correlation\n",
    "\"\"\"\n",
    "from dataframe.correlation import (\n",
    "    get_feature_to_corr_by_behavior,\n",
    "    get_behavior_to_average_corr,\n",
    ")\n",
    "\n",
    "marker = EEG.__name__\n",
    "behavior_to_rp = {}\n",
    "for b in [\"Valence\", \"Arousal\", \"Attention\"]:\n",
    "    behavior_to_rp[b] = get_feature_to_corr_by_behavior(\n",
    "        result, b, feature_names, marker, \"pearsonr\"\n",
    "    )\n",
    "\n",
    "avg_condition_to_features = get_behavior_to_average_corr(behavior_to_rp)\n"
   ]
  },
  {
   "cell_type": "code",
   "execution_count": null,
   "id": "cad5c2ca",
   "metadata": {},
   "outputs": [],
   "source": [
    "from plotting import (\n",
    "    plot_correlation_table_by_channel,\n",
    "    plot_k_chaneels_by_r_value,\n",
    "    plot_eeg_topomap_all_blocks,\n",
    "    plot_time_series_by_epoch,\n",
    ")\n",
    "\n",
    "\"\"\" plot the single channel correlation table\n",
    "\"\"\"\n",
    "# channel = 1\n",
    "# features = STAT_FEATURES\n",
    "# channel_names = MARKER_TO_CHANNEL_NAMES[marker]\n",
    "# for condition, feature_to_pc in avg_condition_to_features.items():\n",
    "#     label = f\"{channel_names[channel]} {condition}\"\n",
    "#     plot_correlation_table_by_channel(\n",
    "#         label,\n",
    "#         feature_to_pc,\n",
    "#         [\"pearson r\", \"pearson p\", \"spearman r\", \"spearman p\"],\n",
    "#         features,\n",
    "#         channel,\n",
    "#         True,\n",
    "#     )\n",
    "\n",
    "\"\"\" plot the top channel correlation table given r values\n",
    "\"\"\"\n",
    "# for condition, feature_to_pc in avg_condition_to_features.items():\n",
    "#     features = feature_to_pc.keys()\n",
    "#     plot_k_chaneels_by_r_value(feature_to_pc, channel_names, features, condition, True, 10)\n",
    "#     plot_k_chaneels_by_r_value(feature_to_pc, channel_names, features, condition, False, 10)\n",
    "\n",
    "\"\"\" \n",
    "    plot the topography for eeg\n",
    "\"\"\"\n",
    "# for condition, feature_to_pc in avg_condition_to_features.items():\n",
    "#     plot_eeg_topomap_all_blocks(condition, feature_to_pc)\n",
    "#     features = feature_to_pc.keys()\n",
    "#     for f in features:\n",
    "#         plot_eeg_topomap_one_block(condition, f, feature_to_pc, all_block_names)\n",
    "\n",
    "\n",
    "\"\"\" plot the top channel correlation table with different blocks\n",
    "\"\"\"\n",
    "# all_block_names = list(all_data.keys())\n",
    "# all_block_names.sort()\n",
    "# for condition, feature_to_pc in avg_condition_to_features.items():\n",
    "#     plot_eeg_pearson_correlation_table(condition, feature_to_pc, all_block_names, 1)\n",
    "\n",
    "\"\"\" plot the series for the top k channels\n",
    "\"\"\"\n",
    "# define number of rows and columns for subplots\n",
    "# nrow = 3\n",
    "# ncol = 2\n",
    "# for condition, feature_to_pc in avg_condition_to_features.items():\n",
    "#     print(f\"{condition}\")\n",
    "#     ser_list = get_eeg_pearson_correlation_series_all_blocks(feature_to_pc, channel_names, k=20)\n",
    "#     plot_series(nrow, ncol, ser_list)\n",
    "\n",
    "\n",
    "\"\"\" \n",
    "    plot the time series given the marker and block\n",
    "\"\"\"\n",
    "# plot_time_series_by_epoch(all_data['audio_hvla'], 'EEG', 'audio_hvla', 0)\n",
    "\n",
    "\"\"\" \n",
    "    plot the scattor for physiological signals\n",
    "\"\"\"\n",
    "# plot_pd_scatter_by_marker(\"LEOG\", result, ['../2007', '../2002', '../2006'])\n"
   ]
  },
  {
   "cell_type": "code",
   "execution_count": null,
   "id": "5e3f5204",
   "metadata": {},
   "outputs": [],
   "source": [
    "\"\"\" \n",
    "    discard high correlated features\n",
    "\"\"\"\n",
    "corr = all_feature_array.corr()\n",
    "updated = corr[(((corr < 0.9) & (corr > -0.9)) | (corr == 1)).all(axis=1)]\n",
    "all_feature_array = all_feature_array[list(updated.index.values)]\n",
    "feature_names = all_feature_array.columns\n",
    "\n",
    "print(all_feature_array.shape, len(feature_names), len(label_list))\n"
   ]
  },
  {
   "cell_type": "code",
   "execution_count": null,
   "id": "ac2b93ad",
   "metadata": {
    "scrolled": true
   },
   "outputs": [],
   "source": [
    "import seaborn as sns\n",
    "\n",
    "\"\"\"\n",
    "    plot the correlation heatmap\n",
    "\"\"\"\n",
    "corr = all_feature_array.corr()\n",
    "sorted_corr = corr.sort_index().sort_index(axis=1)\n",
    "truncated_corr = sorted_corr.truncate(\n",
    "    before=\"D7_ALPHA\", after=\"VEOG_VAR\", axis=\"rows\"\n",
    ").truncate(before=\"D7_ALPHA\", after=\"VEOG_VAR\", axis=\"columns\")\n",
    "\n",
    "plt.figure(figsize=(14, 12))\n",
    "sns.heatmap(truncated_corr, vmin=-1, vmax=1, annot=False, cmap=\"RdBu_r\")\n"
   ]
  },
  {
   "cell_type": "code",
   "execution_count": null,
   "id": "010d750e",
   "metadata": {},
   "outputs": [],
   "source": [
    "features = STAT_FEATURES\n",
    "marker = EOG.__name__\n",
    "\n",
    "channel_names = dir_to_data[\"../2002\"][\"audio_hvla\"].get_chanlocs(marker)\n",
    "channel_num = 0\n",
    "\"\"\" \n",
    "    extract features from physiological signals\n",
    "\"\"\"\n",
    "# features_to_trials = extract_features_by_channel(marker, dir_to_data, features, channel_num, channel_names[channel_num])\n",
    "# dir_name_to_labels = {}\n",
    "# for dir_name, all_data in dir_to_data.items():\n",
    "#     dir_name_to_labels[dir_name] = get_all_behaviors_labels(all_data)\n"
   ]
  },
  {
   "cell_type": "code",
   "execution_count": null,
   "id": "ad4ebf5f",
   "metadata": {},
   "outputs": [],
   "source": [
    "\"\"\" \n",
    "    extract correlation from physiological signals\n",
    "\"\"\"\n",
    "num_channels = 4\n",
    "num_blocks = 0\n",
    "dir_name_to_ctf = {}\n",
    "for dir_name, all_data in dir_to_data.items():\n",
    "    dir_name_to_ctf[dir_name] = get_all_behaviors_feature_to_pc_by_markers(\n",
    "        all_data, marker, features, num_channels, num_blocks\n",
    "    )\n",
    "\n",
    "avg_condition_to_features = get_all_trials_average_rp_values(\n",
    "    dir_name_to_ctf, features, \"pearson\"\n",
    ")\n",
    "spearman_corr = get_all_trials_average_rp_values(dir_name_to_ctf, features, \"spearman\")\n",
    "for b, feature_to_pc in avg_condition_to_features.items():\n",
    "    for f, pc in feature_to_pc.items():\n",
    "        avg_condition_to_features[b][f] = np.hstack((pc, spearman_corr[b][f]))"
   ]
  }
 ],
 "metadata": {
  "kernelspec": {
   "display_name": "Python 3 (ipykernel)",
   "language": "python",
   "name": "python3"
  },
  "language_info": {
   "codemirror_mode": {
    "name": "ipython",
    "version": 3
   },
   "file_extension": ".py",
   "mimetype": "text/x-python",
   "name": "python",
   "nbconvert_exporter": "python",
   "pygments_lexer": "ipython3",
   "version": "3.8.10"
  },
  "vscode": {
   "interpreter": {
    "hash": "aee8b7b246df8f9039afb4144a1f6fd8d2ca17a180786b69acc140d282b71a49"
   }
  }
 },
 "nbformat": 4,
 "nbformat_minor": 5
}
