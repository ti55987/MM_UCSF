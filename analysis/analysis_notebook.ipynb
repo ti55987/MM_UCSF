{
 "cells": [
  {
   "cell_type": "code",
   "execution_count": 1,
   "id": "30a3799e",
   "metadata": {},
   "outputs": [],
   "source": [
    "import mat73\n",
    "import argparse\n",
    "import numpy as np\n",
    "import matplotlib.pyplot as plt\n",
    "from scipy.stats import kendalltau, pearsonr, spearmanr\n",
    "\n",
    "from biomarkers import BioMarkers, EEG, EMG, EOG\n",
    "from feature_extraction import concatenate_features\n",
    "from data_utils import load_data_from_dir"
   ]
  },
  {
   "cell_type": "code",
   "execution_count": 2,
   "id": "e1f4b9f7",
   "metadata": {},
   "outputs": [
    {
     "name": "stdout",
     "output_type": "stream",
     "text": [
      "Complete loading 10 markers\n",
      "Loaded audio_nvla block\n",
      "Complete loading 10 markers\n",
      "Loaded breath_hvha block\n",
      "Complete loading 10 markers\n",
      "Loaded mind wandering block\n",
      "Complete loading 10 markers\n",
      "Loaded breath_nvha block\n",
      "Complete loading 10 markers\n",
      "Loaded audio_hvla block\n",
      "Complete loading 10 markers\n",
      "Loaded breath_nvla block\n",
      "Complete loading 10 markers\n",
      "Loaded meditation block\n",
      "Complete loading 10 markers\n",
      "Loaded audio_hvha block\n",
      "Complete loading 10 markers\n",
      "Loaded breath_hvla block\n"
     ]
    }
   ],
   "source": [
    "DIR_NAME = \"../1000_CleanData\"\n",
    "\n",
    "all_data = load_data_from_dir(DIR_NAME)"
   ]
  },
  {
   "cell_type": "code",
   "execution_count": 8,
   "id": "03c1be00",
   "metadata": {},
   "outputs": [
    {
     "name": "stdout",
     "output_type": "stream",
     "text": [
      "audio_nvla block valence labels [0.75875 0.59125 0.6075  0.52125 0.42875 0.665   0.49125 0.57375 0.34\n",
      " 0.5725  0.355   0.43375 0.48375]\n",
      "breath_hvha block valence labels [0.77125 0.695   0.64375 0.70125 0.71125 0.6225  0.6225  0.72375 0.65125\n",
      " 0.68625 0.75    0.61625 0.58875]\n",
      "mind wandering block valence labels [0.5     0.47    0.445   0.40625 0.46375 0.39    0.75875 0.59125 0.6075\n",
      " 0.52125 0.42875 0.665   0.49125]\n",
      "breath_nvha block valence labels [0.51875 0.4175  0.595   0.5075  0.65125 0.5475  0.37375 0.3225  0.605\n",
      " 0.20625 0.58375 0.6175  0.5825 ]\n",
      "audio_hvla block valence labels [0.92625 0.9525  0.89625 0.96875 0.9375  0.91875 0.9425  0.8375  0.78625\n",
      " 0.865   0.6175  0.90625 0.71125]\n",
      "breath_nvla block valence labels [0.5     0.60375 0.665   0.54375 0.58125 0.405   0.615   0.54375 0.5375\n",
      " 0.5825  0.5675  0.5725  0.42   ]\n",
      "meditation block valence labels [0.5     0.5675  0.5     0.68625 0.85625 0.48    0.56875 0.3925  0.54\n",
      " 0.59125 0.15625 0.41625 0.77125]\n",
      "audio_hvha block valence labels [0.89625 0.825   0.80375 0.9425  0.9075  0.95375 0.9525  0.8875  0.87125\n",
      " 0.815   0.825   0.89125 0.9275 ]\n",
      "breath_hvla block valence labels [0.5775  0.575   0.55375 0.585   0.55125 0.60875 0.7     0.57125 0.61875\n",
      " 0.62125 0.57625 0.72875 0.7425 ]\n",
      "(117,)\n"
     ]
    }
   ],
   "source": [
    "# valance labels\n",
    "all_labels = np.array([])\n",
    "for block, markers in all_data.items():\n",
    "    y = markers.get_labels()\n",
    "    print(f'{block} block valence labels {y}')\n",
    "    all_labels = np.concatenate((all_labels, y), axis=None)\n",
    "\n",
    "print(all_labels.shape)"
   ]
  },
  {
   "cell_type": "code",
   "execution_count": 11,
   "id": "3ff02564",
   "metadata": {},
   "outputs": [
    {
     "ename": "ImportError",
     "evalue": "cannot import name 'get_features_in_all_blocks' from 'data_utils' (/Users/tpan/Development/volunteer/MM_UCSF/analysis/data_utils.py)",
     "output_type": "error",
     "traceback": [
      "\u001b[0;31m---------------------------------------------------------------------------\u001b[0m",
      "\u001b[0;31mImportError\u001b[0m                               Traceback (most recent call last)",
      "\u001b[1;32m/Users/tpan/Development/volunteer/MM_UCSF/analysis/analysis_notebook.ipynb Cell 4\u001b[0m in \u001b[0;36m<cell line: 1>\u001b[0;34m()\u001b[0m\n\u001b[0;32m----> <a href='vscode-notebook-cell:/Users/tpan/Development/volunteer/MM_UCSF/analysis/analysis_notebook.ipynb#W5sZmlsZQ%3D%3D?line=0'>1</a>\u001b[0m \u001b[39mfrom\u001b[39;00m \u001b[39mdata_utils\u001b[39;00m \u001b[39mimport\u001b[39;00m get_features_in_all_blocks\n\u001b[1;32m      <a href='vscode-notebook-cell:/Users/tpan/Development/volunteer/MM_UCSF/analysis/analysis_notebook.ipynb#W5sZmlsZQ%3D%3D?line=2'>3</a>\u001b[0m all_features \u001b[39m=\u001b[39m get_features_in_all_blocks(all_blocks\u001b[39m=\u001b[39mall_data)\n",
      "\u001b[0;31mImportError\u001b[0m: cannot import name 'get_features_in_all_blocks' from 'data_utils' (/Users/tpan/Development/volunteer/MM_UCSF/analysis/data_utils.py)"
     ]
    }
   ],
   "source": [
    "from data_utils import get_features_in_all_blocks\n",
    "\n",
    "all_features = get_features_in_all_blocks(all_blocks=all_data)"
   ]
  },
  {
   "cell_type": "code",
   "execution_count": 26,
   "id": "f69725e8",
   "metadata": {},
   "outputs": [],
   "source": [
    "# Train machine learning models\n",
    "from sklearn.linear_model import LogisticRegression\n",
    "from sklearn.pipeline import Pipeline\n",
    "\n",
    "from sklearn.preprocessing import StandardScaler, LabelEncoder\n",
    "from sklearn.model_selection import GroupKFold,GridSearchCV,cross_val_score,cross_validate"
   ]
  },
  {
   "cell_type": "code",
   "execution_count": 24,
   "id": "782e4879",
   "metadata": {},
   "outputs": [
    {
     "name": "stdout",
     "output_type": "stream",
     "text": [
      "[ 0  1  2  3  4  5  6  7  8  9 10 11 12]\n",
      "(13, 1518) (13,) (13,)\n"
     ]
    }
   ],
   "source": [
    "groups_list=[[i] for i, j in enumerate(y)]\n",
    "group_array=np.hstack(groups_list)\n",
    "\n",
    "print(group_array)\n",
    "print(all_features.shape, y.shape, group_array.shape)"
   ]
  },
  {
   "cell_type": "code",
   "execution_count": 28,
   "id": "ea403690",
   "metadata": {},
   "outputs": [
    {
     "name": "stdout",
     "output_type": "stream",
     "text": [
      "[ 6  2  0  9  7 11 10  4  3  1  2  5  8]\n",
      "[0.89625 0.825   0.80375 0.9425  0.9075  0.95375 0.9525  0.8875  0.87125\n",
      " 0.815   0.825   0.89125 0.9275 ]\n"
     ]
    }
   ],
   "source": [
    "#convert y values to categorical values\n",
    "lab = LabelEncoder()\n",
    "y_transformed = lab.fit_transform(y)\n",
    "\n",
    "#view transformed values\n",
    "print(y_transformed)\n",
    "print(y)"
   ]
  },
  {
   "cell_type": "code",
   "execution_count": 33,
   "id": "51c04220",
   "metadata": {},
   "outputs": [
    {
     "data": {
      "text/plain": [
       "GridSearchCV(cv=GroupKFold(n_splits=5),\n",
       "             estimator=Pipeline(steps=[('scaler', StandardScaler()),\n",
       "                                       ('classifier',\n",
       "                                        LogisticRegression(max_iter=200))]),\n",
       "             n_jobs=16,\n",
       "             param_grid={'classifier__C': [1e-05, 0.0001, 0.001, 0.01, 0.1, 1,\n",
       "                                           10, 100]})"
      ]
     },
     "execution_count": 33,
     "metadata": {},
     "output_type": "execute_result"
    }
   ],
   "source": [
    "clf=LogisticRegression(max_iter=200)\n",
    "gkf=GroupKFold(n_splits=5)\n",
    "param_grid = {'classifier__C': [1e-5, 1e-4, 1e-3, 1e-2, 1e-1, 1, 10, 100]}\n",
    "pipe=Pipeline([('scaler',StandardScaler()),('classifier',clf)])\n",
    "gscv=GridSearchCV(pipe,param_grid,cv=gkf,n_jobs=16)\n",
    "gscv.fit(all_features,y_transformed,groups=group_array)"
   ]
  },
  {
   "cell_type": "code",
   "execution_count": 34,
   "id": "764e71c5",
   "metadata": {},
   "outputs": [
    {
     "data": {
      "text/plain": [
       "0.0"
      ]
     },
     "execution_count": 34,
     "metadata": {},
     "output_type": "execute_result"
    },
    {
     "name": "stderr",
     "output_type": "stream",
     "text": [
      "/Users/tpan/miniconda3/envs/MM/lib/python3.8/site-packages/sklearn/linear_model/_logistic.py:763: ConvergenceWarning: lbfgs failed to converge (status=1):\n",
      "STOP: TOTAL NO. of ITERATIONS REACHED LIMIT.\n",
      "\n",
      "Increase the number of iterations (max_iter) or scale the data as shown in:\n",
      "    https://scikit-learn.org/stable/modules/preprocessing.html\n",
      "Please also refer to the documentation for alternative solver options:\n",
      "    https://scikit-learn.org/stable/modules/linear_model.html#logistic-regression\n",
      "  n_iter_i = _check_optimize_result(\n",
      "/Users/tpan/miniconda3/envs/MM/lib/python3.8/site-packages/sklearn/linear_model/_logistic.py:763: ConvergenceWarning: lbfgs failed to converge (status=1):\n",
      "STOP: TOTAL NO. of ITERATIONS REACHED LIMIT.\n",
      "\n",
      "Increase the number of iterations (max_iter) or scale the data as shown in:\n",
      "    https://scikit-learn.org/stable/modules/preprocessing.html\n",
      "Please also refer to the documentation for alternative solver options:\n",
      "    https://scikit-learn.org/stable/modules/linear_model.html#logistic-regression\n",
      "  n_iter_i = _check_optimize_result(\n",
      "/Users/tpan/miniconda3/envs/MM/lib/python3.8/site-packages/sklearn/linear_model/_logistic.py:763: ConvergenceWarning: lbfgs failed to converge (status=1):\n",
      "STOP: TOTAL NO. of ITERATIONS REACHED LIMIT.\n",
      "\n",
      "Increase the number of iterations (max_iter) or scale the data as shown in:\n",
      "    https://scikit-learn.org/stable/modules/preprocessing.html\n",
      "Please also refer to the documentation for alternative solver options:\n",
      "    https://scikit-learn.org/stable/modules/linear_model.html#logistic-regression\n",
      "  n_iter_i = _check_optimize_result(\n",
      "/Users/tpan/miniconda3/envs/MM/lib/python3.8/site-packages/sklearn/linear_model/_logistic.py:763: ConvergenceWarning: lbfgs failed to converge (status=1):\n",
      "STOP: TOTAL NO. of ITERATIONS REACHED LIMIT.\n",
      "\n",
      "Increase the number of iterations (max_iter) or scale the data as shown in:\n",
      "    https://scikit-learn.org/stable/modules/preprocessing.html\n",
      "Please also refer to the documentation for alternative solver options:\n",
      "    https://scikit-learn.org/stable/modules/linear_model.html#logistic-regression\n",
      "  n_iter_i = _check_optimize_result(\n",
      "/Users/tpan/miniconda3/envs/MM/lib/python3.8/site-packages/sklearn/linear_model/_logistic.py:763: ConvergenceWarning: lbfgs failed to converge (status=1):\n",
      "STOP: TOTAL NO. of ITERATIONS REACHED LIMIT.\n",
      "\n",
      "Increase the number of iterations (max_iter) or scale the data as shown in:\n",
      "    https://scikit-learn.org/stable/modules/preprocessing.html\n",
      "Please also refer to the documentation for alternative solver options:\n",
      "    https://scikit-learn.org/stable/modules/linear_model.html#logistic-regression\n",
      "  n_iter_i = _check_optimize_result(\n",
      "/Users/tpan/miniconda3/envs/MM/lib/python3.8/site-packages/sklearn/linear_model/_logistic.py:763: ConvergenceWarning: lbfgs failed to converge (status=1):\n",
      "STOP: TOTAL NO. of ITERATIONS REACHED LIMIT.\n",
      "\n",
      "Increase the number of iterations (max_iter) or scale the data as shown in:\n",
      "    https://scikit-learn.org/stable/modules/preprocessing.html\n",
      "Please also refer to the documentation for alternative solver options:\n",
      "    https://scikit-learn.org/stable/modules/linear_model.html#logistic-regression\n",
      "  n_iter_i = _check_optimize_result(\n",
      "/Users/tpan/miniconda3/envs/MM/lib/python3.8/site-packages/sklearn/linear_model/_logistic.py:763: ConvergenceWarning: lbfgs failed to converge (status=1):\n",
      "STOP: TOTAL NO. of ITERATIONS REACHED LIMIT.\n",
      "\n",
      "Increase the number of iterations (max_iter) or scale the data as shown in:\n",
      "    https://scikit-learn.org/stable/modules/preprocessing.html\n",
      "Please also refer to the documentation for alternative solver options:\n",
      "    https://scikit-learn.org/stable/modules/linear_model.html#logistic-regression\n",
      "  n_iter_i = _check_optimize_result(\n",
      "/Users/tpan/miniconda3/envs/MM/lib/python3.8/site-packages/sklearn/linear_model/_logistic.py:763: ConvergenceWarning: lbfgs failed to converge (status=1):\n",
      "STOP: TOTAL NO. of ITERATIONS REACHED LIMIT.\n",
      "\n",
      "Increase the number of iterations (max_iter) or scale the data as shown in:\n",
      "    https://scikit-learn.org/stable/modules/preprocessing.html\n",
      "Please also refer to the documentation for alternative solver options:\n",
      "    https://scikit-learn.org/stable/modules/linear_model.html#logistic-regression\n",
      "  n_iter_i = _check_optimize_result(\n",
      "/Users/tpan/miniconda3/envs/MM/lib/python3.8/site-packages/sklearn/linear_model/_logistic.py:763: ConvergenceWarning: lbfgs failed to converge (status=1):\n",
      "STOP: TOTAL NO. of ITERATIONS REACHED LIMIT.\n",
      "\n",
      "Increase the number of iterations (max_iter) or scale the data as shown in:\n",
      "    https://scikit-learn.org/stable/modules/preprocessing.html\n",
      "Please also refer to the documentation for alternative solver options:\n",
      "    https://scikit-learn.org/stable/modules/linear_model.html#logistic-regression\n",
      "  n_iter_i = _check_optimize_result(\n",
      "/Users/tpan/miniconda3/envs/MM/lib/python3.8/site-packages/sklearn/linear_model/_logistic.py:763: ConvergenceWarning: lbfgs failed to converge (status=1):\n",
      "STOP: TOTAL NO. of ITERATIONS REACHED LIMIT.\n",
      "\n",
      "Increase the number of iterations (max_iter) or scale the data as shown in:\n",
      "    https://scikit-learn.org/stable/modules/preprocessing.html\n",
      "Please also refer to the documentation for alternative solver options:\n",
      "    https://scikit-learn.org/stable/modules/linear_model.html#logistic-regression\n",
      "  n_iter_i = _check_optimize_result(\n",
      "/Users/tpan/miniconda3/envs/MM/lib/python3.8/site-packages/sklearn/linear_model/_logistic.py:763: ConvergenceWarning: lbfgs failed to converge (status=1):\n",
      "STOP: TOTAL NO. of ITERATIONS REACHED LIMIT.\n",
      "\n",
      "Increase the number of iterations (max_iter) or scale the data as shown in:\n",
      "    https://scikit-learn.org/stable/modules/preprocessing.html\n",
      "Please also refer to the documentation for alternative solver options:\n",
      "    https://scikit-learn.org/stable/modules/linear_model.html#logistic-regression\n",
      "  n_iter_i = _check_optimize_result(\n",
      "/Users/tpan/miniconda3/envs/MM/lib/python3.8/site-packages/sklearn/linear_model/_logistic.py:763: ConvergenceWarning: lbfgs failed to converge (status=1):\n",
      "STOP: TOTAL NO. of ITERATIONS REACHED LIMIT.\n",
      "\n",
      "Increase the number of iterations (max_iter) or scale the data as shown in:\n",
      "    https://scikit-learn.org/stable/modules/preprocessing.html\n",
      "Please also refer to the documentation for alternative solver options:\n",
      "    https://scikit-learn.org/stable/modules/linear_model.html#logistic-regression\n",
      "  n_iter_i = _check_optimize_result(\n",
      "/Users/tpan/miniconda3/envs/MM/lib/python3.8/site-packages/sklearn/linear_model/_logistic.py:763: ConvergenceWarning: lbfgs failed to converge (status=1):\n",
      "STOP: TOTAL NO. of ITERATIONS REACHED LIMIT.\n",
      "\n",
      "Increase the number of iterations (max_iter) or scale the data as shown in:\n",
      "    https://scikit-learn.org/stable/modules/preprocessing.html\n",
      "Please also refer to the documentation for alternative solver options:\n",
      "    https://scikit-learn.org/stable/modules/linear_model.html#logistic-regression\n",
      "  n_iter_i = _check_optimize_result(\n",
      "/Users/tpan/miniconda3/envs/MM/lib/python3.8/site-packages/sklearn/linear_model/_logistic.py:763: ConvergenceWarning: lbfgs failed to converge (status=1):\n",
      "STOP: TOTAL NO. of ITERATIONS REACHED LIMIT.\n",
      "\n",
      "Increase the number of iterations (max_iter) or scale the data as shown in:\n",
      "    https://scikit-learn.org/stable/modules/preprocessing.html\n",
      "Please also refer to the documentation for alternative solver options:\n",
      "    https://scikit-learn.org/stable/modules/linear_model.html#logistic-regression\n",
      "  n_iter_i = _check_optimize_result(\n",
      "/Users/tpan/miniconda3/envs/MM/lib/python3.8/site-packages/sklearn/linear_model/_logistic.py:763: ConvergenceWarning: lbfgs failed to converge (status=1):\n",
      "STOP: TOTAL NO. of ITERATIONS REACHED LIMIT.\n",
      "\n",
      "Increase the number of iterations (max_iter) or scale the data as shown in:\n",
      "    https://scikit-learn.org/stable/modules/preprocessing.html\n",
      "Please also refer to the documentation for alternative solver options:\n",
      "    https://scikit-learn.org/stable/modules/linear_model.html#logistic-regression\n",
      "  n_iter_i = _check_optimize_result(\n",
      "/Users/tpan/miniconda3/envs/MM/lib/python3.8/site-packages/sklearn/linear_model/_logistic.py:763: ConvergenceWarning: lbfgs failed to converge (status=1):\n",
      "STOP: TOTAL NO. of ITERATIONS REACHED LIMIT.\n",
      "\n",
      "Increase the number of iterations (max_iter) or scale the data as shown in:\n",
      "    https://scikit-learn.org/stable/modules/preprocessing.html\n",
      "Please also refer to the documentation for alternative solver options:\n",
      "    https://scikit-learn.org/stable/modules/linear_model.html#logistic-regression\n",
      "  n_iter_i = _check_optimize_result(\n"
     ]
    },
    {
     "name": "stderr",
     "output_type": "stream",
     "text": [
      "/Users/tpan/miniconda3/envs/MM/lib/python3.8/site-packages/sklearn/linear_model/_logistic.py:763: ConvergenceWarning: lbfgs failed to converge (status=1):\n",
      "STOP: TOTAL NO. of ITERATIONS REACHED LIMIT.\n",
      "\n",
      "Increase the number of iterations (max_iter) or scale the data as shown in:\n",
      "    https://scikit-learn.org/stable/modules/preprocessing.html\n",
      "Please also refer to the documentation for alternative solver options:\n",
      "    https://scikit-learn.org/stable/modules/linear_model.html#logistic-regression\n",
      "  n_iter_i = _check_optimize_result(\n",
      "/Users/tpan/miniconda3/envs/MM/lib/python3.8/site-packages/sklearn/linear_model/_logistic.py:763: ConvergenceWarning: lbfgs failed to converge (status=1):\n",
      "STOP: TOTAL NO. of ITERATIONS REACHED LIMIT.\n",
      "\n",
      "Increase the number of iterations (max_iter) or scale the data as shown in:\n",
      "    https://scikit-learn.org/stable/modules/preprocessing.html\n",
      "Please also refer to the documentation for alternative solver options:\n",
      "    https://scikit-learn.org/stable/modules/linear_model.html#logistic-regression\n",
      "  n_iter_i = _check_optimize_result(\n",
      "/Users/tpan/miniconda3/envs/MM/lib/python3.8/site-packages/sklearn/linear_model/_logistic.py:763: ConvergenceWarning: lbfgs failed to converge (status=1):\n",
      "STOP: TOTAL NO. of ITERATIONS REACHED LIMIT.\n",
      "\n",
      "Increase the number of iterations (max_iter) or scale the data as shown in:\n",
      "    https://scikit-learn.org/stable/modules/preprocessing.html\n",
      "Please also refer to the documentation for alternative solver options:\n",
      "    https://scikit-learn.org/stable/modules/linear_model.html#logistic-regression\n",
      "  n_iter_i = _check_optimize_result(\n",
      "/Users/tpan/miniconda3/envs/MM/lib/python3.8/site-packages/sklearn/linear_model/_logistic.py:763: ConvergenceWarning: lbfgs failed to converge (status=1):\n",
      "STOP: TOTAL NO. of ITERATIONS REACHED LIMIT.\n",
      "\n",
      "Increase the number of iterations (max_iter) or scale the data as shown in:\n",
      "    https://scikit-learn.org/stable/modules/preprocessing.html\n",
      "Please also refer to the documentation for alternative solver options:\n",
      "    https://scikit-learn.org/stable/modules/linear_model.html#logistic-regression\n",
      "  n_iter_i = _check_optimize_result(\n",
      "/Users/tpan/miniconda3/envs/MM/lib/python3.8/site-packages/sklearn/linear_model/_logistic.py:763: ConvergenceWarning: lbfgs failed to converge (status=1):\n",
      "STOP: TOTAL NO. of ITERATIONS REACHED LIMIT.\n",
      "\n",
      "Increase the number of iterations (max_iter) or scale the data as shown in:\n",
      "    https://scikit-learn.org/stable/modules/preprocessing.html\n",
      "Please also refer to the documentation for alternative solver options:\n",
      "    https://scikit-learn.org/stable/modules/linear_model.html#logistic-regression\n",
      "  n_iter_i = _check_optimize_result(\n"
     ]
    }
   ],
   "source": [
    "gscv.best_score_\n",
    "# importance = clf.coef_[0]\n",
    "# #importance is a list so you can plot it.\n",
    "# feat_importances = pd.Series(importance)\n",
    "# feat_importances.nlargest(20).plot(kind='barh',title = 'Feature Importance')"
   ]
  },
  {
   "cell_type": "code",
   "execution_count": null,
   "id": "3dcadd95",
   "metadata": {},
   "outputs": [],
   "source": []
  }
 ],
 "metadata": {
  "kernelspec": {
   "display_name": "Python 3.8.10 ('MM')",
   "language": "python",
   "name": "python3"
  },
  "language_info": {
   "codemirror_mode": {
    "name": "ipython",
    "version": 3
   },
   "file_extension": ".py",
   "mimetype": "text/x-python",
   "name": "python",
   "nbconvert_exporter": "python",
   "pygments_lexer": "ipython3",
   "version": "3.8.10"
  },
  "vscode": {
   "interpreter": {
    "hash": "a61a162a2d9e3da5a6990904193197d11ef3e5d95aabe700de904d0b7a2b7b7b"
   }
  }
 },
 "nbformat": 4,
 "nbformat_minor": 5
}
