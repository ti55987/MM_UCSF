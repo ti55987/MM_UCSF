{
 "cells": [
  {
   "cell_type": "code",
   "execution_count": null,
   "metadata": {},
   "outputs": [],
   "source": [
    "# Basic imports\n",
    "import numpy as np\n",
    "import pandas as pd\n",
    "import seaborn as sns\n",
    "\n",
    "from dataframe.csv_utils import (\n",
    "    load_data_from_csv,\n",
    "    get_filtered_data,\n",
    ")\n",
    "\n",
    "from constants import SORTED_BLOCK_NAMES, AUDIO_BLOCKS, COLOR_MAP, V_COLOR_MAP"
   ]
  },
  {
   "cell_type": "code",
   "execution_count": null,
   "metadata": {},
   "outputs": [],
   "source": [
    "dir_name = \"eeg_features2\"\n",
    "result = load_data_from_csv(dir_name)"
   ]
  },
  {
   "cell_type": "code",
   "execution_count": null,
   "metadata": {},
   "outputs": [],
   "source": [
    "all_blocks = []\n",
    "for b in SORTED_BLOCK_NAMES:\n",
    "    all_blocks.extend([b] * 13)\n",
    "\n",
    "result[\"condition\"] = all_blocks * len(result.Subject.unique())\n",
    "mask = result[\"condition\"].isin(AUDIO_BLOCKS)\n",
    "audio_only = result[mask]"
   ]
  },
  {
   "cell_type": "code",
   "execution_count": null,
   "metadata": {},
   "outputs": [],
   "source": [
    "sns.scatterplot(data=audio_only, x=\"Valence\", y=\"Arousal\", hue=\"condition\")"
   ]
  },
  {
   "cell_type": "code",
   "execution_count": null,
   "metadata": {},
   "outputs": [],
   "source": [
    "g = sns.relplot(\n",
    "    data=audio_only,\n",
    "    x=\"Valence\",\n",
    "    y=\"Arousal\",\n",
    "    col=\"Subject\",\n",
    "    hue=\"condition\",\n",
    "    col_wrap=5,\n",
    "    palette=COLOR_MAP,\n",
    "    kind=\"scatter\",\n",
    ")\n",
    "\n",
    "sns.move_legend(g, \"upper right\")\n",
    "\n",
    "for _, ax in g.axes_dict.items():\n",
    "    ax.axhline(y = 0.5, color = \"grey\", linestyle = \"dashed\")\n",
    "    ax.axvline(x = 0.5, color = \"grey\", linestyle = \"dashed\") # To the right"
   ]
  }
 ],
 "metadata": {
  "kernelspec": {
   "display_name": "MM",
   "language": "python",
   "name": "python3"
  },
  "language_info": {
   "codemirror_mode": {
    "name": "ipython",
    "version": 3
   },
   "file_extension": ".py",
   "mimetype": "text/x-python",
   "name": "python",
   "nbconvert_exporter": "python",
   "pygments_lexer": "ipython3",
   "version": "3.8.10"
  },
  "orig_nbformat": 4
 },
 "nbformat": 4,
 "nbformat_minor": 2
}
