{
 "cells": [
  {
   "cell_type": "code",
   "execution_count": null,
   "metadata": {},
   "outputs": [],
   "source": [
    "# Basic imports\n",
    "import numpy as np\n",
    "import pandas as pd\n",
    "import seaborn as sns\n",
    "\n",
    "from dataframe.csv_utils import (\n",
    "    load_data_from_csv,\n",
    "    get_filtered_data,\n",
    ")\n",
    "\n",
    "from constants import SORTED_BLOCK_NAMES, AUDIO_BLOCKS, COLOR_MAP, V_COLOR_MAP"
   ]
  },
  {
   "cell_type": "code",
   "execution_count": null,
   "metadata": {},
   "outputs": [],
   "source": [
    "dir_name = \"eeg_features2\"\n",
    "result = load_data_from_csv(dir_name)"
   ]
  },
  {
   "cell_type": "code",
   "execution_count": null,
   "metadata": {},
   "outputs": [],
   "source": [
    "all_blocks = []\n",
    "for b in SORTED_BLOCK_NAMES:\n",
    "    all_blocks.extend([b] * 13)\n",
    "\n",
    "result[\"condition\"] = all_blocks * len(result.Subject.unique())\n",
    "mask = result[\"condition\"].isin(AUDIO_BLOCKS)\n",
    "audio_only = result[mask]"
   ]
  },
  {
   "cell_type": "code",
   "execution_count": null,
   "metadata": {},
   "outputs": [],
   "source": [
    "def get_category_counts(labels, default_thred: int, use_subject_mean: bool = False):\n",
    "    threshold = default_thred if not use_subject_mean else np.mean(labels)\n",
    "    low = 0\n",
    "    for p in labels:\n",
    "        if p < threshold:\n",
    "            low += 1\n",
    "\n",
    "    return len(labels) - low, low\n",
    "\n",
    "\n",
    "label_dict = {\n",
    "    \"label_type\": [],\n",
    "    \"subject\": [],\n",
    "    \"global_h_count\": [],\n",
    "    \"subject_mean_h_count\": [],\n",
    "    \"global_l_count\": [],\n",
    "    \"subject_mean_l_count\": [],\n",
    "}\n",
    "for s in audio_only[\"Subject\"].unique():\n",
    "    for l in ['Valence', 'Arousal']:\n",
    "        labels = audio_only[audio_only[\"Subject\"] == s][l]\n",
    "        default_thred = 0.6 if l == \"Valence\" else 0.5\n",
    "        high_count_global, low_count_global = get_category_counts(labels, default_thred)\n",
    "        high_count_subject, low_count_subject = get_category_counts(\n",
    "            labels, default_thred, True\n",
    "        )\n",
    "        label_dict[\"subject\"].append(s)\n",
    "        label_dict[\"label_type\"].append(l)\n",
    "        label_dict[\"global_h_count\"].append(high_count_global)\n",
    "        label_dict[\"global_l_count\"].append(low_count_global)\n",
    "        label_dict[\"subject_mean_h_count\"].append(high_count_subject)\n",
    "        label_dict[\"subject_mean_l_count\"].append(low_count_subject)    "
   ]
  },
  {
   "cell_type": "code",
   "execution_count": null,
   "metadata": {},
   "outputs": [],
   "source": [
    "res = pd.DataFrame(label_dict)\n",
    "subject_of_interest = [2001, 2003, 2017, 2026, 2028, 2033,  2037, 2041]\n",
    "mask = (res[\"subject\"].isin(subject_of_interest)) & (res['label_type'] == 'Valence')\n",
    "res[mask]"
   ]
  },
  {
   "cell_type": "code",
   "execution_count": null,
   "metadata": {},
   "outputs": [],
   "source": [
    "BREATH_BLOCKS = [\n",
    "    \"breath_hvha\",\n",
    "    \"breath_hvla\",\n",
    "    \"breath_nvha\",\n",
    "    \"breath_nvla\",\n",
    "]\n",
    "mask = result[\"condition\"].isin(BREATH_BLOCKS)\n",
    "breath_only = result[mask]\n",
    "\n",
    "REST_BLOCKS = [\"meditation\", \"mind wandering\",]\n",
    "mask = result[\"condition\"].isin(REST_BLOCKS)\n",
    "rest_only = result[mask]"
   ]
  },
  {
   "cell_type": "code",
   "execution_count": null,
   "metadata": {},
   "outputs": [],
   "source": [
    "sns.scatterplot(data=audio_only, x=\"Valence\", y=\"Arousal\", hue=\"condition\")"
   ]
  },
  {
   "cell_type": "code",
   "execution_count": null,
   "metadata": {},
   "outputs": [],
   "source": [
    "g = sns.relplot(\n",
    "    data=audio_only,\n",
    "    x=\"Valence\",\n",
    "    y=\"Arousal\",\n",
    "    col=\"Subject\",\n",
    "    hue=\"condition\",\n",
    "    col_wrap=5,\n",
    "    palette=COLOR_MAP,\n",
    "    kind=\"scatter\",\n",
    ")\n",
    "\n",
    "sns.move_legend(g, \"upper right\")\n",
    "\n",
    "for _, ax in g.axes_dict.items():\n",
    "    ax.axhline(y = 0.5, color = \"grey\", linestyle = \"dashed\")\n",
    "    ax.axvline(x = 0.5, color = \"grey\", linestyle = \"dashed\") # To the right"
   ]
  }
 ],
 "metadata": {
  "kernelspec": {
   "display_name": "MM",
   "language": "python",
   "name": "python3"
  },
  "language_info": {
   "codemirror_mode": {
    "name": "ipython",
    "version": 3
   },
   "file_extension": ".py",
   "mimetype": "text/x-python",
   "name": "python",
   "nbconvert_exporter": "python",
   "pygments_lexer": "ipython3",
   "version": "3.8.10"
  },
  "orig_nbformat": 4
 },
 "nbformat": 4,
 "nbformat_minor": 2
}
