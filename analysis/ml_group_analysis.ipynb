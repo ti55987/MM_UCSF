{
 "cells": [
  {
   "cell_type": "code",
   "execution_count": 3,
   "metadata": {},
   "outputs": [],
   "source": [
    "import numpy as np\n",
    "import pandas as pd\n",
    "import random\n",
    "\n",
    "import matplotlib.pyplot as plt\n",
    "\n",
    "import seaborn as sns\n",
    "import cebra\n",
    "from cebra import CEBRA\n",
    "\n",
    "from data_utils import (\n",
    "    load_data_from_dir,\n",
    ")\n",
    "from labels import get_behavioral_labels\n",
    "from plotting import subplot_confusion_matrix\n",
    "from constants import AUDIO_BLOCKS\n",
    "from features.constants import Feature, MARKER_TO_FEATURE\n",
    "from biomarkers import EEG_CHANEL_NAMES\n",
    "from labels import get_raw_labels, get_label_means\n",
    "from feature_extraction import EEG_BANDS\n",
    "\n",
    "data_dir = \"../CleandDataV2/\"\n",
    "random.seed(33)"
   ]
  },
  {
   "cell_type": "code",
   "execution_count": 4,
   "metadata": {},
   "outputs": [
    {
     "name": "stdout",
     "output_type": "stream",
     "text": [
      "Loading ../CleandDataV2/2040 data...\n",
      "Loading ../CleandDataV2/2013 data...\n",
      "Loading ../CleandDataV2/2022 data...\n",
      "Loading ../CleandDataV2/2025 data...\n",
      "Loading ../CleandDataV2/2046 data...\n",
      "Loading ../CleandDataV2/2041 data...\n",
      "Loading ../CleandDataV2/2024 data...\n",
      "Loading ../CleandDataV2/2012 data...\n",
      "Loading ../CleandDataV2/2037 data...\n",
      "Loading ../CleandDataV2/2001 data...\n",
      "Loading ../CleandDataV2/2039 data...\n",
      "Loading ../CleandDataV2/2006 data...\n",
      "Loading ../CleandDataV2/2038 data...\n",
      "Loading ../CleandDataV2/2007 data...\n",
      "Loading ../CleandDataV2/2000 data...\n",
      "Loading ../CleandDataV2/2009 data...\n",
      "Loading ../CleandDataV2/2036 data...\n",
      "Loading ../CleandDataV2/2031 data...\n",
      "Loading ../CleandDataV2/2017 data...\n",
      "Loading ../CleandDataV2/2028 data...\n",
      "Loading ../CleandDataV2/2010 data...\n",
      "Loading ../CleandDataV2/2026 data...\n",
      "Loading ../CleandDataV2/2019 data...\n",
      "Loading ../CleandDataV2/2021 data...\n",
      "Loading ../CleandDataV2/2044 data...\n",
      "Loading ../CleandDataV2/2043 data...\n",
      "Loading ../CleandDataV2/2020 data...\n",
      "Loading ../CleandDataV2/2018 data...\n",
      "Loading ../CleandDataV2/2011 data...\n",
      "Loading ../CleandDataV2/2016 data...\n",
      "Loading ../CleandDataV2/2029 data...\n",
      "Loading ../CleandDataV2/2042 data...\n",
      "Loading ../CleandDataV2/2045 data...\n",
      "Loading ../CleandDataV2/2034 data...\n",
      "Loading ../CleandDataV2/2033 data...\n",
      "Loading ../CleandDataV2/2005 data...\n",
      "Loading ../CleandDataV2/2002 data...\n",
      "Loading ../CleandDataV2/2003 data...\n",
      "Loading ../CleandDataV2/2004 data...\n",
      "Loading ../CleandDataV2/2032 data...\n",
      "Loading ../CleandDataV2/2035 data...\n"
     ]
    }
   ],
   "source": [
    "import os\n",
    "\n",
    "marker = \"EEG\"\n",
    "num_slice_per_trial = 5\n",
    "\n",
    "subject_list = []\n",
    "valence_labels, arousal_labels, attention_labels = [], [], []\n",
    "label_thresholds = []\n",
    "for d in os.listdir(data_dir):    \n",
    "    dir_name = data_dir + d\n",
    "    if not os.path.isdir(dir_name):\n",
    "        continue\n",
    "\n",
    "    subject_data = load_data_from_dir(dir_name)\n",
    "    vl, arl, atl = get_raw_labels(AUDIO_BLOCKS, subject_data, num_slice_per_trial)\n",
    "    \n",
    "    subject_list.append(d)\n",
    "    valence_labels.append(vl)\n",
    "    arousal_labels.append(arl)\n",
    "    attention_labels.append(atl)\n",
    "    label_thresholds.append(get_label_means(subject_data))"
   ]
  },
  {
   "cell_type": "code",
   "execution_count": 5,
   "metadata": {},
   "outputs": [
    {
     "data": {
      "text/plain": [
       "41"
      ]
     },
     "execution_count": 5,
     "metadata": {},
     "output_type": "execute_result"
    }
   ],
   "source": [
    "import pickle\n",
    "\n",
    "# Read dictionary pkl file\n",
    "with open('./eeg_features2/all_features.pkl', 'rb') as fp:\n",
    "    marker_features = pickle.load(fp)\n",
    "len(marker_features)"
   ]
  },
  {
   "cell_type": "code",
   "execution_count": 6,
   "metadata": {},
   "outputs": [
    {
     "data": {
      "text/plain": [
       "41"
      ]
     },
     "execution_count": 6,
     "metadata": {},
     "output_type": "execute_result"
    }
   ],
   "source": [
    "IDX_MAP = {\n",
    "    \"hvha\": 0,\n",
    "    \"hvla\": 1,\n",
    "    \"nvha\": 2,\n",
    "    \"nvla\": 3,\n",
    "    \"lvha\": \"blue\",\n",
    "    \"lvla\": \"steelblue\",\n",
    "}\n",
    "target_names = ['hvha', 'hvla', 'nvha', 'nvla']\n",
    "\n",
    "cat_labels = []\n",
    "for idx, (v_thred, a_thred) in enumerate(label_thresholds):\n",
    "    vc = [ 'hv' if l > v_thred else 'nv' for l in valence_labels[idx]]\n",
    "    ac = [ 'ha' if l > a_thred else 'la' for l in arousal_labels[idx]]\n",
    "    vac = [ IDX_MAP[vc[i]+ac[i]] for i in range(len(vc))]\n",
    "    cat_labels.append(vac)\n",
    "len(cat_labels)"
   ]
  },
  {
   "cell_type": "code",
   "execution_count": 8,
   "metadata": {},
   "outputs": [
    {
     "data": {
      "image/png": "[encoded data removed]",
      "text/plain": [
       "<Figure size 1500x800 with 10 Axes>"
      ]
     },
     "metadata": {},
     "output_type": "display_data"
    }
   ],
   "source": [
    "n = 2\n",
    "hold_out_groups = [np.arange(n*k, n*k+n) for k in range(10)]\n",
    "\n",
    "nrows = 2\n",
    "ncol = 5\n",
    "fig, axes = plt.subplots(\n",
    "    nrows=nrows,\n",
    "    sharey=True,\n",
    "    ncols=ncol,\n",
    "    figsize=(ncol * 3, nrows * 4),\n",
    ")\n",
    "\n",
    "for idx, ax in enumerate(axes.flat):\n",
    "    all_labels = []\n",
    "    for s in hold_out_groups[idx]:\n",
    "        all_labels.extend(cat_labels[s])\n",
    "    sns.histplot(data=[target_names[a]for a in all_labels], stat='percent', color='#fffea3', ax=ax)"
   ]
  },
  {
   "cell_type": "code",
   "execution_count": null,
   "metadata": {},
   "outputs": [],
   "source": [
    "# All distribution\n",
    "all_labels = []\n",
    "for l in cat_labels:\n",
    "    all_labels.extend(l)\n",
    "\n",
    "sns.histplot(data=[target_names[a]for a in all_labels], stat='percent', color='#fffea3')"
   ]
  },
  {
   "cell_type": "code",
   "execution_count": 30,
   "metadata": {},
   "outputs": [],
   "source": [
    "from model.embedding import get_embeddings\n",
    "from sklearn.metrics import f1_score, accuracy_score\n",
    "\n",
    "# CEBRA AND PCA hyper-parameters\n",
    "OUTPUT_DIM = 6\n",
    "MAX_HIDDEN_UNITS = 256\n",
    "\n",
    "\n",
    "def _train_test_split(data, labels, val_indexes: list = []):\n",
    "    train_indexes = list(set(range(len(labels))) - set(val_indexes))\n",
    "    train_labels = np.array(labels)[train_indexes]\n",
    "    train_data = np.array(data)[train_indexes]\n",
    "\n",
    "    val_data = np.array(data)[val_indexes]\n",
    "    val_label = np.array(labels)[val_indexes]\n",
    "    return train_data, train_labels, val_data, val_label\n",
    "\n",
    "\n",
    "# output_dim, max_hidden_units only needed for CEBRA\n",
    "def run_knn_decoder(\n",
    "    dataset,\n",
    "    method,\n",
    "    output_dim,\n",
    "    max_hidden_units,\n",
    "):\n",
    "    from sklearn.neighbors import KNeighborsClassifier\n",
    "\n",
    "    y_pred, all_embeddings = [], []\n",
    "    for _, (train_data, train_labels, val_data, _) in enumerate(dataset):\n",
    "        scaler = scaler.fit(train_data)\n",
    "        embedding, val_embedding = get_embeddings(\n",
    "            train_data=train_data, #preprocessing.normalize(train_data, axis=1, norm='l1'),\n",
    "            val_data=val_data, # #preprocessing.normalize(val_data, axis=1, norm='l1'),\n",
    "            train_labels=train_labels,\n",
    "            use_pca=(method == \"PCA\"),\n",
    "            out_dim=6 if method == \"PCA\" else output_dim,\n",
    "            num_hidden_units=max_hidden_units,\n",
    "        )\n",
    "        all_embeddings.append(embedding)\n",
    "        # 4. Train the decoder on training embedding and labels\n",
    "        # train_true_cat = get_label_category(train_labels, label_type)\n",
    "        decoder = KNeighborsClassifier()\n",
    "        decoder.fit(embedding, np.array(train_labels))\n",
    "\n",
    "        # score = decoder.score(val_embedding, np.array(val_labels))\n",
    "        prediction = decoder.predict_proba(val_embedding)\n",
    "        y_pred.append(prediction)\n",
    "\n",
    "    return y_pred, all_embeddings\n",
    "\n",
    "def decode_marker_data(\n",
    "    dataset_dict,\n",
    "    method,\n",
    "    filtered_channel: str = \"\",\n",
    "    plot_roc: bool = False,\n",
    "    plot_embed: bool = False,\n",
    "):\n",
    "    label_type = \"valence-arousal\"\n",
    "    f1_score_data = {k: {} for k in dataset_dict.keys()}\n",
    "    accuracy = {k: {} for k in dataset_dict.keys()}\n",
    "    list_embedding_tuple = []\n",
    "    for channel, feature_to_data in dataset_dict.items():\n",
    "        if channel != filtered_channel and len(filtered_channel) > 0:\n",
    "            continue\n",
    "\n",
    "        for f, dataset in feature_to_data.items():\n",
    "            val_true_cat = [\n",
    "                val_labels for _, (_, _, _, val_labels) in enumerate(dataset)\n",
    "            ]\n",
    "\n",
    "            val_pred_cat, all_embeddings = run_knn_decoder(\n",
    "                dataset,\n",
    "                method,\n",
    "                OUTPUT_DIM,\n",
    "                MAX_HIDDEN_UNITS,\n",
    "            )\n",
    "            ac_scores = [\n",
    "                accuracy_score(\n",
    "                    y_pred=np.argmax(val_pred_cat[i], axis=1), y_true=val_true_cat[i]\n",
    "                )\n",
    "                for i in range(len(val_pred_cat))\n",
    "            ]\n",
    "            accuracy[channel][f] = np.mean(ac_scores)\n",
    "\n",
    "    return f1_score_data, accuracy\n",
    "\n",
    "def get_all_spectral_features(feature_to_data: dict):\n",
    "    all_spetral_psd = [feature_to_data[f.name] for f in EEG_BANDS.keys()]\n",
    "    all_spetral_psd = np.hstack(all_spetral_psd)\n",
    "    return all_spetral_psd"
   ]
  },
  {
   "cell_type": "code",
   "execution_count": 28,
   "metadata": {},
   "outputs": [
    {
     "name": "stdout",
     "output_type": "stream",
     "text": [
      "(39,) (39, 260) (2,) (2, 260)\n",
      "(39,) (39, 260) (2,) (2, 260)\n",
      "(39,) (39, 260) (2,) (2, 260)\n",
      "(39,) (39, 260) (2,) (2, 260)\n",
      "(39,) (39, 260) (2,) (2, 260)\n",
      "(39,) (39, 260) (2,) (2, 260)\n",
      "(39,) (39, 260) (2,) (2, 260)\n",
      "(39,) (39, 260) (2,) (2, 260)\n",
      "(39,) (39, 260) (2,) (2, 260)\n",
      "(39,) (39, 260) (2,) (2, 260)\n"
     ]
    }
   ],
   "source": [
    "dataset_dict = {k: {Feature.ALL_SPECTRAL.name: []} for k in marker_features[0].keys()}\n",
    "for _, g in enumerate(hold_out_groups):\n",
    "    train_data, train_labels, val_data, val_labels = _train_test_split(\n",
    "        marker_features, cat_labels, g\n",
    "    )\n",
    "    print(train_data.shape, train_labels.shape, val_data.shape, val_labels.shape)\n",
    "    # flatten the data\n",
    "    train_channel_to_data = {k: [] for k in marker_features[0].keys()}\n",
    "    for t in train_data:\n",
    "        for channel, feature_to_data in t.items():\n",
    "            train_channel_to_data[channel].append(\n",
    "                get_all_spectral_features(feature_to_data)\n",
    "            )\n",
    "\n",
    "    val_channel_to_data = {k: [] for k in marker_features[0].keys()}\n",
    "    for t in val_data:\n",
    "        for channel, feature_to_data in t.items():\n",
    "            val_channel_to_data[channel].append(\n",
    "                get_all_spectral_features(feature_to_data)\n",
    "            )\n",
    "    for channel in dataset_dict.keys():\n",
    "        dataset_dict[channel][Feature.ALL_SPECTRAL.name].append((\n",
    "            np.concatenate(train_channel_to_data[channel]),\n",
    "            train_labels.ravel(),\n",
    "            np.concatenate(val_channel_to_data[channel]),\n",
    "            val_labels.ravel(),\n",
    "        ))"
   ]
  },
  {
   "cell_type": "code",
   "execution_count": 31,
   "metadata": {},
   "outputs": [
    {
     "data": {
      "text/html": [
       "<div>\n",
       "<style scoped>\n",
       "    .dataframe tbody tr th:only-of-type {\n",
       "        vertical-align: middle;\n",
       "    }\n",
       "\n",
       "    .dataframe tbody tr th {\n",
       "        vertical-align: top;\n",
       "    }\n",
       "\n",
       "    .dataframe thead th {\n",
       "        text-align: right;\n",
       "    }\n",
       "</style>\n",
       "<table border=\"1\" class=\"dataframe\">\n",
       "  <thead>\n",
       "    <tr style=\"text-align: right;\">\n",
       "      <th></th>\n",
       "      <th>channel</th>\n",
       "      <th>cv_mean_score</th>\n",
       "    </tr>\n",
       "  </thead>\n",
       "  <tbody>\n",
       "    <tr>\n",
       "      <th>0</th>\n",
       "      <td>A</td>\n",
       "      <td>0.260769</td>\n",
       "    </tr>\n",
       "    <tr>\n",
       "      <th>1</th>\n",
       "      <td>B</td>\n",
       "      <td>0.253269</td>\n",
       "    </tr>\n",
       "    <tr>\n",
       "      <th>2</th>\n",
       "      <td>C</td>\n",
       "      <td>0.248654</td>\n",
       "    </tr>\n",
       "    <tr>\n",
       "      <th>3</th>\n",
       "      <td>D</td>\n",
       "      <td>0.259038</td>\n",
       "    </tr>\n",
       "  </tbody>\n",
       "</table>\n",
       "</div>"
      ],
      "text/plain": [
       "  channel  cv_mean_score\n",
       "0       A       0.260769\n",
       "1       B       0.253269\n",
       "2       C       0.248654\n",
       "3       D       0.259038"
      ]
     },
     "execution_count": 31,
     "metadata": {},
     "output_type": "execute_result"
    }
   ],
   "source": [
    "def get_feature_names_and_mean_scores(\n",
    "    dataset_dict, accuracy, marker: str, filtered_channel: str\n",
    "):\n",
    "    if marker != \"EEG\":\n",
    "        return list(dataset_dict[marker].keys()), [\n",
    "            accuracy[marker][f] for f in all_feature_name\n",
    "        ]\n",
    "\n",
    "    if len(filtered_channel) == 0:\n",
    "        all_feature_name = list(dataset_dict.keys())\n",
    "        mean_scores = [accuracy[c][Feature.ALL_SPECTRAL.name] for c in all_feature_name]\n",
    "    else:\n",
    "        all_feature_name = list(dataset_dict[filtered_channel].keys())\n",
    "        mean_scores = [accuracy[filtered_channel][f] for f in all_feature_name]\n",
    "\n",
    "    return all_feature_name, mean_scores\n",
    "\n",
    "subject_accuracy_summary = {\n",
    "    \"channel\": [],\n",
    "    \"cv_mean_score\": [],\n",
    "}\n",
    "###CHANGE ME####\n",
    "method = 'PCA'\n",
    "filtered_channel = \"\"\n",
    "plot_roc = False\n",
    "plot_embeddings = False\n",
    "###############\n",
    "\n",
    "f1_score_data, accuracy = decode_marker_data(\n",
    "    dataset_dict, method, filtered_channel, plot_roc, plot_embeddings\n",
    ")\n",
    "\n",
    "all_feature_name, mean_scores = get_feature_names_and_mean_scores(\n",
    "    dataset_dict, accuracy, marker, filtered_channel\n",
    ")\n",
    "\n",
    "subject_accuracy_summary[\"channel\"].extend(all_feature_name)\n",
    "subject_accuracy_summary[\"cv_mean_score\"].extend(mean_scores)\n",
    "\n",
    "subject_accuracy_summary = pd.DataFrame(subject_accuracy_summary)\n",
    "subject_accuracy_summary.head()"
   ]
  },
  {
   "cell_type": "code",
   "execution_count": 32,
   "metadata": {},
   "outputs": [
    {
     "data": {
      "text/plain": [
       "Text(0.5, 1.0, 'Group level EEG cv mean accuracy: PCA')"
      ]
     },
     "execution_count": 32,
     "metadata": {},
     "output_type": "execute_result"
    },
    {
     "data": {
      "image/png": "[encoded data removed]",
      "text/plain": [
       "<Figure size 640x480 with 1 Axes>"
      ]
     },
     "metadata": {},
     "output_type": "display_data"
    }
   ],
   "source": [
    "pp = sns.barplot(subject_accuracy_summary, x=\"channel\", y=\"cv_mean_score\")\n",
    "pp.set_ylim((0, 0.8))\n",
    "pp.bar_label(pp.containers[0], fontsize=10, fmt=\"%.2f\")\n",
    "pp.set_title(f'Group level EEG cv mean accuracy: {method}')"
   ]
  }
 ],
 "metadata": {
  "kernelspec": {
   "display_name": "MM",
   "language": "python",
   "name": "python3"
  },
  "language_info": {
   "codemirror_mode": {
    "name": "ipython",
    "version": 3
   },
   "file_extension": ".py",
   "mimetype": "text/x-python",
   "name": "python",
   "nbconvert_exporter": "python",
   "pygments_lexer": "ipython3",
   "version": "3.8.17"
  },
  "orig_nbformat": 4
 },
 "nbformat": 4,
 "nbformat_minor": 2
}
