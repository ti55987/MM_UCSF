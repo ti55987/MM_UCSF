{
 "cells": [
  {
   "cell_type": "code",
   "execution_count": 1,
   "id": "30a3799e",
   "metadata": {},
   "outputs": [],
   "source": [
    "from scipy import signal\n",
    "from scipy.integrate import simps\n",
    "\n",
    "import pandas as pd\n",
    "import numpy as np\n",
    "import matplotlib.pyplot as plt\n",
    "import seaborn as sns\n",
    "\n",
    "from data_utils import (\n",
    "    load_data_from_dir,\n",
    ")\n",
    "\n",
    "from dataframe.csv_utils import (\n",
    "    load_data_from_csv,\n",
    "    get_filtered_data,\n",
    ")\n",
    "\n",
    "from feature_extraction import (\n",
    "    Feature,\n",
    "    EEG_BANDS,\n",
    ")\n",
    "\n",
    "from features.constants import (\n",
    "    MARKER_METADATA\n",
    ")\n",
    "from biomarkers import (\n",
    "    ALL_MARKERS\n",
    ")"
   ]
  },
  {
   "attachments": {},
   "cell_type": "markdown",
   "id": "7cbae2a5",
   "metadata": {},
   "source": [
    "### Constant"
   ]
  },
  {
   "cell_type": "code",
   "execution_count": 2,
   "id": "d7d83fb8",
   "metadata": {},
   "outputs": [],
   "source": [
    "from constants import SUEJECT_BATCHES, SORTED_BLOCK_NAMES, ALL_EEG_BANDS, AUDIO_BLOCKS\n",
    "\n",
    "\n",
    "# All constants\n",
    "DIR_NAME = \"../CleandDataV2/2031\"\n",
    "BLOCK_NAME = \"audio_hvla\"\n",
    "CHANNEL = 0\n",
    "EPOCH = 0\n",
    "BAND = Feature.DELTA\n",
    "SUBJECTS_LIST = SUEJECT_BATCHES[2]"
   ]
  },
  {
   "cell_type": "code",
   "execution_count": 3,
   "id": "3b0834a4",
   "metadata": {},
   "outputs": [
    {
     "data": {
      "application/vnd.jupyter.widget-view+json": {
       "model_id": "3f19e151730a4ba9b9300bc630423e4e",
       "version_major": 2,
       "version_minor": 0
      },
      "text/plain": [
       "Dropdown(description='Marker:', options=('BP', 'ECG', 'EEG', 'EGG', 'EMG', 'EOG', 'GSR', 'Resp', 'TREV', 'beha…"
      ]
     },
     "execution_count": 3,
     "metadata": {},
     "output_type": "execute_result"
    }
   ],
   "source": [
    "import ipywidgets as widgets\n",
    "\n",
    "MARKER = widgets.Dropdown(\n",
    "    options=ALL_MARKERS,\n",
    "    value=ALL_MARKERS[0],\n",
    "    description='Marker:',\n",
    "    disabled=False,\n",
    ")\n",
    "MARKER"
   ]
  },
  {
   "attachments": {},
   "cell_type": "markdown",
   "id": "6f043a17",
   "metadata": {},
   "source": [
    "### Load raw data"
   ]
  },
  {
   "cell_type": "code",
   "execution_count": 4,
   "id": "3b64ba67",
   "metadata": {},
   "outputs": [
    {
     "name": "stdout",
     "output_type": "stream",
     "text": [
      "Loading ../CleandDataV2/2021 data...\n"
     ]
    }
   ],
   "source": [
    "subj_to_data = {}\n",
    "data_dir = '../CleandDataV2/'\n",
    "for subj in [2021]:\n",
    "    dir_name = data_dir + str(subj)\n",
    "    all_data = load_data_from_dir(dir_name)\n",
    "    subj_to_data[subj] = all_data\n"
   ]
  },
  {
   "attachments": {},
   "cell_type": "markdown",
   "id": "f94bff85",
   "metadata": {},
   "source": [
    "### Load features from csv"
   ]
  },
  {
   "cell_type": "code",
   "execution_count": null,
   "id": "4ca5430b",
   "metadata": {},
   "outputs": [],
   "source": [
    "dir_name = \"eeg_features2\"\n",
    "result = load_data_from_csv(dir_name)"
   ]
  },
  {
   "cell_type": "code",
   "execution_count": null,
   "id": "3a1461d7",
   "metadata": {},
   "outputs": [],
   "source": [
    "subjects = result['Subject'].unique()\n",
    "\n",
    "all_blocks = []\n",
    "for b in SORTED_BLOCK_NAMES:\n",
    "    all_blocks.extend([b] * 13)\n",
    "\n",
    "\n",
    "result[\"condition\"] = all_blocks * len(subjects)\n",
    "mask = result[\"condition\"].isin(AUDIO_BLOCKS)\n",
    "audio_only = result[mask]"
   ]
  },
  {
   "attachments": {},
   "cell_type": "markdown",
   "id": "318492c6",
   "metadata": {},
   "source": [
    "### Plot eeg topography averaged trials"
   ]
  },
  {
   "cell_type": "code",
   "execution_count": null,
   "id": "80c8dc3f",
   "metadata": {},
   "outputs": [],
   "source": [
    "import mne\n",
    "from biomarkers import (\n",
    "    EEG_CHANEL_NAMES,\n",
    "    EEG_NUM_CHANNELS,\n",
    "    EEG_MONTAGES,\n",
    "    BEHAVIOR_LIST,\n",
    ")\n",
    "\n",
    "def plot_eeg_topomap(data, xlables, axes, num_epochs, legend_title, times):\n",
    "    for i in range(len(xlables)):\n",
    "        axes[i].set_xlabel(xlables[i], fontsize=25)\n",
    "        axes[i].xaxis.set_label_position(\"bottom\")\n",
    "\n",
    "    sampling_freq = 512  # in Hertz\n",
    "    info = mne.create_info(\n",
    "        ch_names=EEG_CHANEL_NAMES,\n",
    "        sfreq=sampling_freq,\n",
    "        ch_types=[\"eeg\"] * EEG_NUM_CHANNELS,\n",
    "    )\n",
    "    info.set_montage(EEG_MONTAGES)\n",
    "\n",
    "    evoked_array = mne.EvokedArray(\n",
    "        data,\n",
    "        info,\n",
    "        tmin=1,\n",
    "        nave=num_epochs,\n",
    "        comment=\"simulated\",\n",
    "    )\n",
    "    if len(times) > 0:\n",
    "        efig = evoked_array.plot_topomap(\n",
    "            axes=axes,\n",
    "            times=times,\n",
    "            time_format=\"\",\n",
    "            ch_type=\"eeg\",\n",
    "            scalings=1,\n",
    "            show=False,\n",
    "        )\n",
    "    else:\n",
    "        efig = evoked_array.plot_topomap(\n",
    "            axes=axes, time_format=\"\", ch_type=\"eeg\", scalings=1, show=False\n",
    "        )\n",
    "\n",
    "    axes[-1].set_title(legend_title, fontsize=25)\n",
    "    axes[-1].tick_params(labelsize=15)\n",
    "    return axes"
   ]
  },
  {
   "cell_type": "code",
   "execution_count": null,
   "id": "ee6648ad",
   "metadata": {},
   "outputs": [],
   "source": [
    "for subj in SUBJECTS_LIST :\n",
    "    tmp = audio_only[audio_only[\"Subject\"].isin([subj])]\n",
    "    all_feature_array = tmp.drop([\"Subject\", \"Valence\", \"Arousal\", \"Attention\"], axis=1)\n",
    "\n",
    "    fig, axes = plt.subplots(\n",
    "            6,\n",
    "            5,\n",
    "            figsize=(35, 20),\n",
    "            gridspec_kw={\"width_ratios\": [3, 3, 3, 3, 1]},\n",
    "        )\n",
    "    all_bands = ALL_EEG_BANDS\n",
    "    xlables = list(pd.unique(all_feature_array.condition))\n",
    "\n",
    "    for idx in range(len(all_bands)):\n",
    "        band = all_bands[idx]\n",
    "        data = all_feature_array.groupby('condition').mean().filter(regex=f\".*{band}$\")\n",
    "        data = np.swapaxes(data.to_numpy(), 0, -1)\n",
    "        axes[idx,:] = plot_eeg_topomap(data, xlables, axes[idx,:], 13, band, [])\n",
    "\n",
    "    fig.suptitle(f\"{subj} {MARKER} data averaged over trials\", fontsize=35)\n",
    "    filename = f\"results/topomap/eeg_spectral_topography_{subj}.png\"\n",
    "    plt.savefig(filename)"
   ]
  },
  {
   "attachments": {},
   "cell_type": "markdown",
   "id": "b5fbc1f8",
   "metadata": {},
   "source": [
    "### Plot eeg topography over time"
   ]
  },
  {
   "cell_type": "code",
   "execution_count": null,
   "id": "0c2a2e7e",
   "metadata": {},
   "outputs": [],
   "source": [
    "all_blocks_name = AUDIO_BLOCKS\n",
    "\n",
    "for subj in SUBJECTS_LIST:\n",
    "    all_data = subj_to_data[subj]\n",
    "\n",
    "    fig, axes = plt.subplots(\n",
    "        4,\n",
    "        7,\n",
    "        figsize=(35, 20),\n",
    "        gridspec_kw={\"width_ratios\": [3, 3, 3, 3, 3, 3, 1]},\n",
    "    )\n",
    "\n",
    "    for idx in range(len(all_blocks_name)):\n",
    "        b = all_blocks_name[idx]\n",
    "        average_eeg_data = np.mean(all_data[b].get_all_data()[MARKER], axis=2)\n",
    "        xlables = [\"4s\", \"8s\", \"12s\", \"16s\", \"20s\", \"24s\"]\n",
    "        axes[idx, :] = plot_eeg_topomap(\n",
    "            average_eeg_data, xlables, axes[idx, :], 13, b, [4, 8, 12, 16, 20, 24]\n",
    "        )\n",
    "\n",
    "    fig.suptitle(f\"{subj} EEG raw data averaged over trials\", fontsize=35)\n",
    "    filename = f\"results/{subj}_eeg_raw_topography.png\"\n",
    "    plt.savefig(filename)"
   ]
  },
  {
   "attachments": {},
   "cell_type": "markdown",
   "id": "d0a2bf35",
   "metadata": {},
   "source": [
    "## Time Series"
   ]
  },
  {
   "cell_type": "code",
   "execution_count": null,
   "id": "653d625f",
   "metadata": {},
   "outputs": [],
   "source": [
    "marker = MARKER.value\n",
    "\n",
    "num_epochs = 13\n",
    "\n",
    "def get_channel_feature_dropdown(oneblock_data, marker: str):\n",
    "    channels = oneblock_data.get_chanlocs(marker)\n",
    "    options = [(channels[idx], idx) for idx in range(len(channels))]\n",
    "    sf = oneblock_data.marker_to_data[marker][\"srate\"].item()[0][0]\n",
    "    print(options, sf)\n",
    "    return widgets.Dropdown(\n",
    "        options=options,\n",
    "        value=0,\n",
    "        description=\"Feature:\",\n",
    "        disabled=False,\n",
    "    )\n",
    "\n",
    "\n",
    "def resample(data, original_freq: int, target_freq: int):\n",
    "    period = \"{}N\".format(int(1e9 / original_freq))\n",
    "    index = pd.date_range(start=0, periods=len(data), freq=period)\n",
    "    # Create a DataFrame for the orignal hz series\n",
    "    df = pd.DataFrame(data, index=index)\n",
    "\n",
    "    period = \"{}N\".format(int(1e9 / target_freq))\n",
    "    return df.resample(period).mean().to_numpy()\n",
    "\n",
    "\n",
    "def configure_ax(ax, epoch, y_label):\n",
    "    ax.set_title(\n",
    "        f\"Trial {epoch+1}\",\n",
    "        fontdict={\"fontsize\": 15, \"fontweight\": 20, \"color\": \"blue\"},\n",
    "    )\n",
    "    ax.set_xlabel(\"Time (seconds)\", fontsize=15, weight=20)\n",
    "    ax.yaxis.set_tick_params(labelsize=15)\n",
    "    if epoch == 0:\n",
    "        ax.set_ylabel(\n",
    "            y_label,\n",
    "            fontsize=30,\n",
    "            color=\"red\",\n",
    "        )\n",
    "    return ax\n",
    "\n",
    "\n",
    "oneblock_data = all_data[BLOCK_NAME]"
   ]
  },
  {
   "cell_type": "code",
   "execution_count": null,
   "id": "bfae5ef1",
   "metadata": {},
   "outputs": [],
   "source": [
    "ncols = len(AUDIO_BLOCKS)\n",
    "nrows = len(subj_to_data)\n",
    "fig, axes = plt.subplots(\n",
    "    nrows=nrows,\n",
    "    ncols=ncols,\n",
    "    figsize=(ncols * 5, nrows * 5),\n",
    "    sharey=True,\n",
    "    sharex=False,\n",
    ")\n",
    "cbar_ax = fig.add_axes([0.91, 0.3, 0.03, 0.4])\n",
    "\n",
    "subj_to_data_arr = [(k, v) for k, v in subj_to_data.items()]\n",
    "\n",
    "for idx, ax in enumerate(axes.flat):\n",
    "    col_no = idx % ncols\n",
    "    row_no = int(idx / ncols)\n",
    "    subj, subject_data = subj_to_data_arr[row_no]\n",
    "    block = AUDIO_BLOCKS[col_no]\n",
    "\n",
    "    show_cbar = idx == ncols - 1\n",
    "    all_feature_array = {}\n",
    "    for metadata in MARKER_METADATA:\n",
    "        marker = metadata[\"marker\"]\n",
    "        chan = metadata[\"chan\"]\n",
    "        feature = metadata[\"feature\"]\n",
    "        data = subject_data[block].get_all_data()[marker][chan]\n",
    "\n",
    "        if marker == \"EGG\":\n",
    "            data = resample(data, 512, 500)\n",
    "\n",
    "        data = np.swapaxes(data, 0, 1)\n",
    "        data = data.flatten()\n",
    "        all_feature_array[marker + \"_\" + feature] = data\n",
    "\n",
    "    all_feature_array = pd.DataFrame(all_feature_array)\n",
    "\n",
    "    corr = all_feature_array.corr()\n",
    "    ax.tick_params(axis=\"x\", labelsize=8)\n",
    "    ax.tick_params(axis=\"y\", labelsize=8)\n",
    "    ax.title.set_text(str(subj) + \":\" + block)\n",
    "    sns.heatmap(\n",
    "        corr,\n",
    "        vmin=-1,\n",
    "        vmax=1,\n",
    "        annot=True,\n",
    "        fmt=\".2f\",\n",
    "        cmap=\"RdBu_r\",\n",
    "        ax=ax,\n",
    "        cbar=show_cbar,\n",
    "        cbar_ax=cbar_ax if show_cbar else None,\n",
    "    )\n",
    "\n",
    "plt.savefig(f\"results/ecg,trev,egg_correlation.png\")"
   ]
  },
  {
   "attachments": {},
   "cell_type": "markdown",
   "id": "21d3feb0",
   "metadata": {},
   "source": [
    "### Plot ECG and TREV EGG time series in audio blocks"
   ]
  },
  {
   "cell_type": "code",
   "execution_count": null,
   "id": "0f99d06a",
   "metadata": {},
   "outputs": [],
   "source": [
    "row_metadata = [\n",
    "    {\"marker\": \"ECG\", \"chan\": 2, \"feature\": \"ECG\"},\n",
    "    {\"marker\": \"TREV\", \"chan\": 0, \"feature\": \"TREV\"},\n",
    "    {\"marker\": \"EGG\", \"chan\": 2, \"feature\": \"EGG\"},\n",
    "]\n",
    "\n",
    "for subj, subject_data in subj_to_data.items():\n",
    "    n_rows = len(row_metadata)*2\n",
    "    fig, axes = plt.subplots(\n",
    "        nrows=n_rows,\n",
    "        ncols=num_epochs,\n",
    "        figsize=(num_epochs * 5, n_rows * 5),\n",
    "        sharey=\"row\",\n",
    "        sharex=True,\n",
    "    )\n",
    "    \n",
    "    for idx, ax in enumerate(axes.flat):\n",
    "        epoch = idx % num_epochs\n",
    "        row_no = int(idx / num_epochs) % len(row_metadata)\n",
    "        block_no = int(int(idx / num_epochs) / len(row_metadata))\n",
    "        block = AUDIO_BLOCKS[block_no]\n",
    "\n",
    "        marker = row_metadata[row_no][\"marker\"]\n",
    "        chan = row_metadata[row_no][\"chan\"]\n",
    "\n",
    "        data = subject_data[block].get_all_data()[marker][chan]\n",
    "        time = subject_data[block].get_times(marker) / 1000\n",
    "        # (num_data_points, num_epochs) => (num_epochs, num_data_points)\n",
    "        data = np.swapaxes(data, 0, 1)\n",
    "        ax.plot(time, data[epoch], color=\"k\")\n",
    "        ax = configure_ax(ax, epoch, f\"{block.lstrip('audio_')} {row_metadata[row_no]['feature']}\")\n",
    "\n",
    "    fig.suptitle(\n",
    "        f\"Subject {subj}: ECG LF/HF, TREV Blood Velocity and EGG Amplitude in audio condition\",\n",
    "        fontsize=30,\n",
    "    )\n",
    "\n",
    "    plt.savefig(f\"results/ecg,trev,egg_{subj}_time_series.png\")"
   ]
  },
  {
   "attachments": {},
   "cell_type": "markdown",
   "id": "2afc04a6",
   "metadata": {},
   "source": [
    "### Plot ECG time series in audio blocks"
   ]
  },
  {
   "cell_type": "code",
   "execution_count": null,
   "id": "f2d97683",
   "metadata": {},
   "outputs": [],
   "source": [
    "marker = 'ECG'\n",
    "feature = get_channel_feature_dropdown(oneblock_data, marker)\n",
    "feature"
   ]
  },
  {
   "cell_type": "code",
   "execution_count": null,
   "id": "787da7fe",
   "metadata": {},
   "outputs": [],
   "source": [
    "channels = oneblock_data.get_chanlocs(marker)\n",
    "for subj, subject_data in subj_to_data.items():\n",
    "    fig, axes = plt.subplots(\n",
    "        nrows=len(AUDIO_BLOCKS),\n",
    "        ncols=num_epochs,\n",
    "        figsize=(num_epochs * 5, len(AUDIO_BLOCKS) * 5),\n",
    "        sharey=True,\n",
    "        sharex=True,\n",
    "    )\n",
    "\n",
    "    for idx, ax in enumerate(axes.flat):\n",
    "        epoch = idx % num_epochs\n",
    "        block = AUDIO_BLOCKS[int(idx / num_epochs)]\n",
    "\n",
    "        data = subject_data[block].get_all_data()[marker][feature.value]\n",
    "        time = subject_data[block].get_times(marker) / 1000\n",
    "        # (num_data_points, num_epochs) => (num_epochs, num_data_points)\n",
    "        data = np.swapaxes(data, 0, 1)\n",
    "        ax.plot(time, data[epoch], color=\"k\")\n",
    "        ax = configure_ax(ax, epoch, f\"{block}\")\n",
    "\n",
    "    fig.suptitle(f\"Subject {subj}:{marker} - {channels[feature.value]}\", fontsize=30)\n",
    "    #plt.savefig(f\"results/{marker}_{subj}_{channels[feature.value]}_time_series.png\")"
   ]
  },
  {
   "attachments": {},
   "cell_type": "markdown",
   "id": "227125e4",
   "metadata": {},
   "source": [
    "### Plot frequency bandpower - EEG"
   ]
  },
  {
   "cell_type": "code",
   "execution_count": 21,
   "id": "8f753c13",
   "metadata": {},
   "outputs": [
    {
     "data": {
      "image/png": "[encoded data removed]",
      "text/plain": [
       "<Figure size 800x400 with 1 Axes>"
      ]
     },
     "metadata": {},
     "output_type": "display_data"
    }
   ],
   "source": [
    "\"\"\"\n",
    "Reference: https://raphaelvallat.com/bandpower.html\n",
    "\"\"\"\n",
    "# Define window length (4 seconds)\n",
    "data = all_data['audio_hvha'].get_all_data()[MARKER.value]\n",
    "sf = 512\n",
    "win = 2 * sf\n",
    "freqs, psd = signal.welch(data[0, :, 0], sf, nperseg=win)\n",
    "\n",
    "# Plot the power spectrum\n",
    "sns.set(font_scale=1.2, style=\"white\")\n",
    "plt.figure(figsize=(8, 4))\n",
    "plt.plot(freqs, psd, color=\"k\", lw=2)\n",
    "plt.xlabel(\"Frequency (Hz)\")\n",
    "plt.ylabel(\"Power spectral density (V^2 / Hz)\")\n",
    "plt.ylim([0, psd.max() * 1.1])\n",
    "plt.title(\"Welch's periodogram\")\n",
    "plt.xlim([0, freqs.max()])\n",
    "sns.despine()"
   ]
  },
  {
   "cell_type": "code",
   "execution_count": 33,
   "id": "e81d25df",
   "metadata": {},
   "outputs": [
    {
     "data": {
      "image/png": "[encoded data removed]",
      "text/plain": [
       "<Figure size 700x400 with 1 Axes>"
      ]
     },
     "metadata": {},
     "output_type": "display_data"
    }
   ],
   "source": [
    "# Define lower and upper limits\n",
    "low, high = 1, 50 #EEG_BANDS[Feature.GAMMA]\n",
    "\n",
    "# Find intersecting values in frequency vector\n",
    "idx_psd = np.logical_and(freqs >= low, freqs <= high)\n",
    "\n",
    "# Plot the power spectral density and fill the delta area\n",
    "plt.figure(figsize=(7, 4))\n",
    "plt.plot(freqs, psd, lw=2, color=\"k\")\n",
    "plt.fill_between(freqs, psd, where=idx_psd, color=\"skyblue\")\n",
    "plt.xlabel(\"Frequency (Hz)\")\n",
    "plt.ylabel(\"Power spectral density (uV^2 / Hz)\")\n",
    "plt.xlim([0, 60])\n",
    "plt.ylim([0, psd.max() * 1.1])\n",
    "plt.title(\"Welch's periodogram\")\n",
    "sns.despine()"
   ]
  },
  {
   "cell_type": "code",
   "execution_count": 34,
   "id": "ae8c2e37",
   "metadata": {},
   "outputs": [
    {
     "data": {
      "text/plain": [
       "(99,)"
      ]
     },
     "execution_count": 34,
     "metadata": {},
     "output_type": "execute_result"
    }
   ],
   "source": [
    "psd[idx_psd].shape"
   ]
  },
  {
   "cell_type": "code",
   "execution_count": null,
   "id": "cc728d56",
   "metadata": {},
   "outputs": [],
   "source": [
    "# Frequency resolution\n",
    "freq_res = freqs[1] - freqs[0]  # = 1 / 4 = 0.25\n",
    "\n",
    "# Compute the absolute power by approximating the area under the curve\n",
    "delta_power = simps(psd[idx_psd], dx=freq_res)\n",
    "print(f\"Absolute {BAND.name} power: %.3f uV^2\" % delta_power)"
   ]
  }
 ],
 "metadata": {
  "kernelspec": {
   "display_name": "Python 3 (ipykernel)",
   "language": "python",
   "name": "python3"
  },
  "language_info": {
   "codemirror_mode": {
    "name": "ipython",
    "version": 3
   },
   "file_extension": ".py",
   "mimetype": "text/x-python",
   "name": "python",
   "nbconvert_exporter": "python",
   "pygments_lexer": "ipython3",
   "version": "3.8.17"
  },
  "vscode": {
   "interpreter": {
    "hash": "aee8b7b246df8f9039afb4144a1f6fd8d2ca17a180786b69acc140d282b71a49"
   }
  }
 },
 "nbformat": 4,
 "nbformat_minor": 5
}
